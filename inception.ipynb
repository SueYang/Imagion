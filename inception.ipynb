{
 "cells": [
  {
   "cell_type": "code",
   "execution_count": 54,
   "metadata": {
    "collapsed": false
   },
   "outputs": [],
   "source": [
    "from __future__ import absolute_import\n",
    "from __future__ import division\n",
    "from __future__ import print_function\n",
    "\n",
    "import argparse\n",
    "import os.path\n",
    "import re\n",
    "import sys\n",
    "import tarfile\n",
    "\n",
    "from six.moves import urllib\n",
    "import tensorflow as tf\n",
    "\n",
    "import numpy as np\n",
    "import matplotlib.pyplot as plt\n",
    "import pandas as pd\n",
    "import seaborn as sns\n",
    "import scipy as sp\n",
    "import random\n",
    "\n",
    "sns.set(style=\"ticks\", color_codes=True)\n",
    "%matplotlib inline"
   ]
  },
  {
   "cell_type": "code",
   "execution_count": 56,
   "metadata": {
    "collapsed": true
   },
   "outputs": [],
   "source": [
    "def maybe_download_and_extract():\n",
    "  \"\"\"Download and extract model tar file.\"\"\"\n",
    "  dest_directory = FLAGS.model_dir\n",
    "  if not os.path.exists(dest_directory):\n",
    "    os.makedirs(dest_directory)\n",
    "  filename = DATA_URL.split('/')[-1]\n",
    "  filepath = os.path.join(dest_directory, filename)\n",
    "  if not os.path.exists(filepath):\n",
    "    def _progress(count, block_size, total_size):\n",
    "      sys.stdout.write('\\r>> Downloading %s %.1f%%' % (\n",
    "          filename, float(count * block_size) / float(total_size) * 100.0))\n",
    "      sys.stdout.flush()\n",
    "    filepath, _ = urllib.request.urlretrieve(DATA_URL, filepath, _progress)\n",
    "    print()\n",
    "    statinfo = os.stat(filepath)\n",
    "    print('Successfully downloaded', filename, statinfo.st_size, 'bytes.')\n",
    "  tarfile.open(filepath, 'r:gz').extractall(dest_directory)"
   ]
  },
  {
   "cell_type": "code",
   "execution_count": 57,
   "metadata": {
    "collapsed": true
   },
   "outputs": [],
   "source": [
    "maybe_download_and_extract()"
   ]
  },
  {
   "cell_type": "code",
   "execution_count": 3,
   "metadata": {
    "collapsed": true
   },
   "outputs": [],
   "source": [
    "FLAGS = None\n",
    "\n",
    "# pylint: disable=line-too-long\n",
    "DATA_URL = 'http://download.tensorflow.org/models/image/imagenet/inception-2015-12-05.tgz'\n",
    "# pylint: enable=line-too-long\n"
   ]
  },
  {
   "cell_type": "code",
   "execution_count": 4,
   "metadata": {
    "collapsed": false
   },
   "outputs": [],
   "source": [
    "class NodeLookup(object):\n",
    "  \"\"\"Converts integer node ID's to human readable labels.\"\"\"\n",
    "\n",
    "  def __init__(self,\n",
    "               label_lookup_path=None,\n",
    "               uid_lookup_path=None):\n",
    "    if not label_lookup_path:\n",
    "      label_lookup_path = os.path.join(\n",
    "          FLAGS.model_dir, 'imagenet_2012_challenge_label_map_proto.pbtxt')\n",
    "    if not uid_lookup_path:\n",
    "      uid_lookup_path = os.path.join(\n",
    "          FLAGS.model_dir, 'imagenet_synset_to_human_label_map.txt')\n",
    "    self.node_lookup = self.load(label_lookup_path, uid_lookup_path)\n",
    "\n",
    "  def load(self, label_lookup_path, uid_lookup_path):\n",
    "    \"\"\"Loads a human readable English name for each softmax node.\n",
    "\n",
    "    Args:\n",
    "      label_lookup_path: string UID to integer node ID.\n",
    "      uid_lookup_path: string UID to human-readable string.\n",
    "\n",
    "    Returns:\n",
    "      dict from integer node ID to human-readable string.\n",
    "    \"\"\"\n",
    "    if not tf.gfile.Exists(uid_lookup_path):\n",
    "      tf.logging.fatal('File does not exist %s', uid_lookup_path)\n",
    "    if not tf.gfile.Exists(label_lookup_path):\n",
    "      tf.logging.fatal('File does not exist %s', label_lookup_path)\n",
    "\n",
    "    # Loads mapping from string UID to human-readable string\n",
    "    proto_as_ascii_lines = tf.gfile.GFile(uid_lookup_path).readlines()\n",
    "    uid_to_human = {}\n",
    "    p = re.compile(r'[n\\d]*[ \\S,]*')\n",
    "    for line in proto_as_ascii_lines:\n",
    "      parsed_items = p.findall(line)\n",
    "      uid = parsed_items[0]\n",
    "      human_string = parsed_items[2]\n",
    "      uid_to_human[uid] = human_string\n",
    "\n",
    "    # Loads mapping from string UID to integer node ID.\n",
    "    node_id_to_uid = {}\n",
    "    proto_as_ascii = tf.gfile.GFile(label_lookup_path).readlines()\n",
    "    for line in proto_as_ascii:\n",
    "      if line.startswith('  target_class:'):\n",
    "        target_class = int(line.split(': ')[1])\n",
    "      if line.startswith('  target_class_string:'):\n",
    "        target_class_string = line.split(': ')[1]\n",
    "        node_id_to_uid[target_class] = target_class_string[1:-2]\n",
    "\n",
    "    # Loads the final mapping of integer node ID to human-readable string\n",
    "    node_id_to_name = {}\n",
    "    for key, val in node_id_to_uid.items():\n",
    "      if val not in uid_to_human:\n",
    "        tf.logging.fatal('Failed to locate: %s', val)\n",
    "      name = uid_to_human[val]\n",
    "      node_id_to_name[key] = name\n",
    "\n",
    "    return node_id_to_name\n",
    "\n",
    "  def id_to_string(self, node_id):\n",
    "    if node_id not in self.node_lookup:\n",
    "      return ''\n",
    "    return self.node_lookup[node_id]\n",
    "\n",
    "\n",
    "def create_graph():\n",
    "  \"\"\"Creates a graph from saved GraphDef file and returns a saver.\"\"\"\n",
    "  # Creates graph from saved graph_def.pb.\n",
    "  with tf.gfile.FastGFile(os.path.join(\n",
    "      FLAGS.model_dir, 'classify_image_graph_def.pb'), 'rb') as f:\n",
    "    graph_def = tf.GraphDef()\n",
    "    graph_def.ParseFromString(f.read())\n",
    "    _ = tf.import_graph_def(graph_def, name='')\n",
    "\n",
    "\n",
    "def run_inference_on_image(images):\n",
    "  \"\"\"Runs inference on an image.\n",
    "\n",
    "  Args:\n",
    "    image: Image file name.\n",
    "\n",
    "  Returns:\n",
    "    Nothing\n",
    "  \"\"\"\n",
    "\n",
    "  res = []\n",
    "  with tf.Session() as sess:\n",
    "      for image in images:\n",
    "        if not tf.gfile.Exists(image):\n",
    "          tf.logging.fatal('File does not exist %s', image)\n",
    "        image_data = tf.gfile.FastGFile(image, 'rb').read()\n",
    "\n",
    "        # Creates graph from saved GraphDef.\n",
    "        create_graph()\n",
    "        softmax_tensor = sess.graph.get_tensor_by_name('softmax:0')\n",
    "        pool_tensor = sess.graph.get_tensor_by_name('pool_3:0')\n",
    "\n",
    "        # Creates graph from saved GraphDef.\n",
    "        print(\"create graph start\")\n",
    "        create_graph()\n",
    "        print(\"create graph end\")\n",
    "        \n",
    "        # Some useful tensors:\n",
    "        # 'softmax:0': A tensor containing the normalized prediction across\n",
    "        #   1000 labels.\n",
    "        # 'pool_3:0': A tensor containing the next-to-last layer containing 2048\n",
    "        #   float description of the image.\n",
    "        # 'DecodeJpeg/contents:0': A tensor containing a string providing JPEG\n",
    "        #   encoding of the image.\n",
    "        # Runs the softmax tensor by feeding the image_data as input to the graph.\n",
    "        print(\"prediction start\")\n",
    "        predictions = sess.run(pool_tensor, {'DecodeJpeg/contents:0': image_data})\n",
    "        print(\"prediction end\")\n",
    "        predictions = np.squeeze(predictions)\n",
    "        res.append(predictions)\n",
    "  return res\n",
    "\n",
    "    # Creates node ID --> English string lookup.\n",
    "#     node_lookup = NodeLookup()\n",
    "\n",
    "#     top_k = predictions.argsort()[-FLAGS.num_top_predictions:][::-1]\n",
    "#     for node_id in top_k:\n",
    "#       human_string = node_lookup.id_to_string(node_id)\n",
    "#       score = predictions[node_id]\n",
    "#       print('%s (score = %.5f)' % (human_string, score))"
   ]
  },
  {
   "cell_type": "code",
   "execution_count": 5,
   "metadata": {
    "collapsed": false
   },
   "outputs": [],
   "source": [
    "parser = argparse.ArgumentParser()\n",
    "# classify_image_graph_def.pb:\n",
    "#   Binary representation of the GraphDef protocol buffer.\n",
    "# imagenet_synset_to_human_label_map.txt:\n",
    "#   Map from synset ID to a human readable string.\n",
    "# imagenet_2012_challenge_label_map_proto.pbtxt:\n",
    "#   Text representation of a protocol buffer mapping a label to synset ID.\n",
    "parser.add_argument(\n",
    "  '--model_dir',\n",
    "  type=str,\n",
    "  default='/tmp/imagenet',\n",
    "  help=\"\"\"\\\n",
    "  Path to classify_image_graph_def.pb,\n",
    "  imagenet_synset_to_human_label_map.txt, and\n",
    "  imagenet_2012_challenge_label_map_proto.pbtxt.\\\n",
    "  \"\"\"\n",
    ")\n",
    "parser.add_argument(\n",
    "  '--image_file',\n",
    "  type=str,\n",
    "  default='',\n",
    "  help='Absolute path to image file.'\n",
    ")\n",
    "parser.add_argument(\n",
    "  '--num_top_predictions',\n",
    "  type=int,\n",
    "  default=5,\n",
    "  help='Display this many predictions.'\n",
    ")\n",
    "FLAGS, unparsed = parser.parse_known_args()\n",
    "# tf.app.run(main=main, argv=[sys.argv[0]] + unparsed)"
   ]
  },
  {
   "cell_type": "code",
   "execution_count": 6,
   "metadata": {
    "collapsed": false
   },
   "outputs": [],
   "source": [
    "def main():\n",
    "  image = \"/Users/gvsi/Dropbox/Photos/California Road Trip/2017-01-01 01.17.42.jpg\"\n",
    "  run_inference_on_image(image)"
   ]
  },
  {
   "cell_type": "code",
   "execution_count": 7,
   "metadata": {
    "collapsed": false
   },
   "outputs": [],
   "source": [
    "# tf.app.run(main=main, argv=[sys.argv[0]] + unparsed)"
   ]
  },
  {
   "cell_type": "code",
   "execution_count": 8,
   "metadata": {
    "collapsed": false
   },
   "outputs": [],
   "source": [
    "data = train=pd.read_csv('dataset.csv', sep=',', index_col=False)"
   ]
  },
  {
   "cell_type": "code",
   "execution_count": 17,
   "metadata": {
    "collapsed": false
   },
   "outputs": [
    {
     "name": "stdout",
     "output_type": "stream",
     "text": [
      "create graph start\n",
      "create graph end\n",
      "prediction start\n",
      "prediction end\n",
      "create graph start\n",
      "create graph end\n",
      "prediction start\n",
      "prediction end\n",
      "create graph start\n",
      "create graph end\n",
      "prediction start\n",
      "prediction end\n",
      "create graph start\n",
      "create graph end\n",
      "prediction start\n",
      "prediction end\n"
     ]
    }
   ],
   "source": [
    "# run_inference_on_image(\"img/\" + data['alias'][0] + \"/\" + data['filename'][0])\n",
    "# \"img/\" + data['alias'][0] + \"/\" + data['filename'][0]\n",
    "\n",
    "images = [\"img/\" + data['alias'][0] + \"/\" + data['filename'][0], \"img/\" + data['alias'][1] + \"/\" + data['filename'][1],\n",
    "         \"img/\" + data['alias'][2] + \"/\" + data['filename'][2], \"img/\" + data['alias'][3] + \"/\" + data['filename'][3]]\n",
    "\n",
    "res = run_inference_on_image(images)"
   ]
  },
  {
   "cell_type": "code",
   "execution_count": 13,
   "metadata": {
    "collapsed": false
   },
   "outputs": [
    {
     "data": {
      "text/plain": [
       "['img/yarasantosoficial/18094753_827986990700746_4918745179017445376_n.jpg',\n",
       " 'img/yarasantosoficial/18096144_1889303301327976_1636725699073015808_n.jpg',\n",
       " 'img/yarasantosoficial/18095912_1359632760784016_7285237765015339008_n.jpg',\n",
       " 'img/yarasantosoficial/18013277_1319178868174444_2724993046633512960_n.jpg']"
      ]
     },
     "execution_count": 13,
     "metadata": {},
     "output_type": "execute_result"
    }
   ],
   "source": [
    "images"
   ]
  },
  {
   "cell_type": "code",
   "execution_count": 20,
   "metadata": {
    "collapsed": false
   },
   "outputs": [
    {
     "data": {
      "text/plain": [
       "(2048,)"
      ]
     },
     "execution_count": 20,
     "metadata": {},
     "output_type": "execute_result"
    }
   ],
   "source": [
    "res[0].shape"
   ]
  },
  {
   "cell_type": "code",
   "execution_count": 11,
   "metadata": {
    "collapsed": false
   },
   "outputs": [],
   "source": [
    "paths = \"img/\" + data['alias'] + \"/\" + data['filename']"
   ]
  },
  {
   "cell_type": "code",
   "execution_count": 12,
   "metadata": {
    "collapsed": false
   },
   "outputs": [
    {
     "data": {
      "text/plain": [
       "0      img/yarasantosoficial/18094753_827986990700746...\n",
       "1      img/yarasantosoficial/18096144_188930330132797...\n",
       "2      img/yarasantosoficial/18095912_135963276078401...\n",
       "3      img/yarasantosoficial/18013277_131917886817444...\n",
       "4      img/yarasantosoficial/18012095_415218078850933...\n",
       "5      img/yarasantosoficial/18013411_294597020963076...\n",
       "6      img/yarasantosoficial/['17881034_1519486784742...\n",
       "7      img/yarasantosoficial/18011556_117461155473597...\n",
       "8      img/yarasantosoficial/17934022_294123917691342...\n",
       "9      img/yarasantosoficial/17932721_607294366141772...\n",
       "10     img/londonfoodbabes/17932077_1296914350425715_...\n",
       "11     img/londonfoodbabes/18096429_683922238458096_5...\n",
       "12     img/londonfoodbabes/18160936_420622264979454_5...\n",
       "13     img/londonfoodbabes/18160698_464226950580386_5...\n",
       "14     img/londonfoodbabes/18013813_948212631948663_6...\n",
       "15     img/londonfoodbabes/18160249_695951757273842_7...\n",
       "16     img/londonfoodbabes/18095941_428212000874072_5...\n",
       "17     img/londonfoodbabes/18011851_1316616641761515_...\n",
       "18     img/londonfoodbabes/18013781_210670249429857_3...\n",
       "19     img/londonfoodbabes/18095205_1438812512806732_...\n",
       "20     img/dr.chrisnicholas/['18011724_11982341136332...\n",
       "21     img/dr.chrisnicholas/17882575_1308674249188056...\n",
       "22     img/dr.chrisnicholas/17818652_410945332611856_...\n",
       "23     img/dr.chrisnicholas/17587062_1728007740546402...\n",
       "24     img/dr.chrisnicholas/17586841_701884176684810_...\n",
       "25     img/dr.chrisnicholas/17587431_1856159937999099...\n",
       "26     img/dr.chrisnicholas/17494349_177456116103655_...\n",
       "27     img/dr.chrisnicholas/17332842_751571871683676_...\n",
       "28     img/dr.chrisnicholas/17126149_1243660979064360...\n",
       "29     img/dr.chrisnicholas/17076728_180595059101908_...\n",
       "                             ...                        \n",
       "970    img/marc_nouss/18094772_195750380934772_882515...\n",
       "971    img/marc_nouss/18161108_1296635570422288_74337...\n",
       "972    img/marc_nouss/18013747_1764918790485282_83956...\n",
       "973    img/marc_nouss/18096614_155951954935834_384872...\n",
       "974    img/marc_nouss/18013366_617669801713290_316185...\n",
       "975    img/marc_nouss/18013915_1899185483672273_40905...\n",
       "976    img/marc_nouss/18094917_128616131016176_120650...\n",
       "977    img/marc_nouss/18096413_1889133124634907_75951...\n",
       "978    img/marc_nouss/18012091_685214215013127_438602...\n",
       "979    img/marc_nouss/17882635_112679322625326_608663...\n",
       "980    img/paulwilkinsonphotography/17882642_50885041...\n",
       "981    img/paulwilkinsonphotography/18095253_12169919...\n",
       "982    img/paulwilkinsonphotography/18011416_27377753...\n",
       "983    img/paulwilkinsonphotography/18011510_18735277...\n",
       "984    img/paulwilkinsonphotography/18094783_13799048...\n",
       "985    img/paulwilkinsonphotography/18095023_11869649...\n",
       "986    img/paulwilkinsonphotography/18013421_15187913...\n",
       "987    img/paulwilkinsonphotography/17933775_12685126...\n",
       "988    img/paulwilkinsonphotography/18011764_13669429...\n",
       "989    img/paulwilkinsonphotography/18011932_74969249...\n",
       "990    img/slikhaartv/18096049_137187653488648_132573...\n",
       "991    img/slikhaartv/18095427_1327097360719993_83008...\n",
       "992    img/slikhaartv/18013133_1527204763978936_89172...\n",
       "993    img/slikhaartv/18094696_1766706896991703_26646...\n",
       "994    img/slikhaartv/18013818_1646757505336469_88089...\n",
       "995    img/slikhaartv/18013183_249726008832582_866225...\n",
       "996    img/slikhaartv/18012077_445735185772460_103787...\n",
       "997    img/slikhaartv/18011660_413308632370391_895253...\n",
       "998    img/slikhaartv/17933840_205417913289425_562437...\n",
       "999    img/slikhaartv/17883210_1161953000593983_68355...\n",
       "dtype: object"
      ]
     },
     "execution_count": 12,
     "metadata": {},
     "output_type": "execute_result"
    }
   ],
   "source": [
    "paths[0:1000]"
   ]
  },
  {
   "cell_type": "code",
   "execution_count": 41,
   "metadata": {
    "collapsed": false
   },
   "outputs": [],
   "source": [
    "res = np.zeros((1000, 2049))"
   ]
  },
  {
   "cell_type": "code",
   "execution_count": 42,
   "metadata": {
    "collapsed": false
   },
   "outputs": [
    {
     "data": {
      "text/plain": [
       "(1, 2048)"
      ]
     },
     "execution_count": 42,
     "metadata": {},
     "output_type": "execute_result"
    }
   ],
   "source": [
    "np.ones((1, 2048)).shape"
   ]
  },
  {
   "cell_type": "code",
   "execution_count": 43,
   "metadata": {
    "collapsed": false
   },
   "outputs": [],
   "source": [
    "# res[0, 1:2049] = np.ones((1, 2048))"
   ]
  },
  {
   "cell_type": "code",
   "execution_count": 46,
   "metadata": {
    "collapsed": false
   },
   "outputs": [],
   "source": [
    "# res[:,0] = np.arange(1000)"
   ]
  },
  {
   "cell_type": "code",
   "execution_count": 53,
   "metadata": {
    "collapsed": false,
    "scrolled": false
   },
   "outputs": [
    {
     "data": {
      "text/plain": [
       "array([[   0.,    1.,    1., ...,    1.,    1.,    1.],\n",
       "       [   1.,    0.,    0., ...,    0.,    0.,    0.],\n",
       "       [   2.,    0.,    0., ...,    0.,    0.,    0.],\n",
       "       ..., \n",
       "       [ 997.,    0.,    0., ...,    0.,    0.,    0.],\n",
       "       [ 998.,    0.,    0., ...,    0.,    0.,    0.],\n",
       "       [ 999.,    0.,    0., ...,    0.,    0.,    0.]])"
      ]
     },
     "execution_count": 53,
     "metadata": {},
     "output_type": "execute_result"
    }
   ],
   "source": [
    "res"
   ]
  },
  {
   "cell_type": "code",
   "execution_count": 52,
   "metadata": {
    "collapsed": false
   },
   "outputs": [],
   "source": [
    "df = pd.DataFrame(res)"
   ]
  },
  {
   "cell_type": "code",
   "execution_count": null,
   "metadata": {
    "collapsed": true
   },
   "outputs": [],
   "source": [
    "df.to_csv()"
   ]
  }
 ],
 "metadata": {
  "anaconda-cloud": {},
  "kernelspec": {
   "display_name": "Python [conda env:tensorflow2]",
   "language": "python",
   "name": "conda-env-tensorflow2-py"
  },
  "language_info": {
   "codemirror_mode": {
    "name": "ipython",
    "version": 2
   },
   "file_extension": ".py",
   "mimetype": "text/x-python",
   "name": "python",
   "nbconvert_exporter": "python",
   "pygments_lexer": "ipython2",
   "version": "2.7.13"
  }
 },
 "nbformat": 4,
 "nbformat_minor": 1
}
