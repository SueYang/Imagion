{
 "cells": [
  {
   "cell_type": "code",
   "execution_count": 1,
   "metadata": {
    "collapsed": true
   },
   "outputs": [],
   "source": [
    "import os\n",
    "import csv\n",
    "import re\n",
    "import urllib"
   ]
  },
  {
   "cell_type": "code",
   "execution_count": 5,
   "metadata": {
    "collapsed": true
   },
   "outputs": [],
   "source": [
    "def write_to_csv(csv_file, row_titles = None, new_row = None, new_file = 'no'):\n",
    "    if new_file == 'yes':\n",
    "        rwa = 'w'\n",
    "    else:\n",
    "        rwa = 'a'\n",
    "    with open(csv_file, rwa) as csvfile:\n",
    "        writer = csv.writer(csvfile, delimiter=',',quotechar='\"', quoting=csv.QUOTE_MINIMAL)\n",
    "        if row_titles:\n",
    "            writer.writerow(row_titles)\n",
    "        if new_row:\n",
    "            writer.writerow(new_row)\n",
    "    csvfile.close()\n",
    "    \n",
    "def write_post(dataset_dir, alias, urlImage):\n",
    "    # create directory for user if it doesn't already exist\n",
    "    if not os.path.isdir(dataset_dir + alias):\n",
    "        os.makedirs(dataset_dir + alias)\n",
    "\n",
    "    # find number of pics saved for a given user\n",
    "    user_pic_count = str(len([name for name in os.listdir(dataset_dir + alias)]))\n",
    "\n",
    "    filename = alias + '_' + user_pic_count \n",
    "\n",
    "    urllib.urlretrieve(urlImage, dataset_dir + alias + '/' + filename + '.png')\n",
    "    \n",
    "    return filename\n",
    "    "
   ]
  },
  {
   "cell_type": "code",
   "execution_count": 3,
   "metadata": {
    "collapsed": true
   },
   "outputs": [],
   "source": [
    "CSV_PATH = 'instagram-like-predictor-master/dataset.csv'\n",
    "DATASET_DIR = 'dataset/'\n",
    "USERS_CSV_PATH = 'users.csv'\n",
    "POSTS_CSV_PATH = 'posts.csv'"
   ]
  },
  {
   "cell_type": "code",
   "execution_count": 4,
   "metadata": {
    "collapsed": true
   },
   "outputs": [],
   "source": [
    "# ONLY RUN ONCE\n",
    "\n",
    "# posts_row_titles = ['filename',\n",
    "#                     'alias', \n",
    "#                     'numberFollowing', \n",
    "#                     'numberFollowers',\n",
    "#                     'urlImage',\n",
    "#                     'numberLikes',\n",
    "#                     'date',\n",
    "#                     'mentions',\n",
    "#                     'localization',\n",
    "#                     'tags',\n",
    "#                     'url',\n",
    "#                     'description']\n",
    "\n",
    "# write_to_csv(POSTS_CSV_PATH, row_titles = posts_row_titles, new_file = 'yes')"
   ]
  },
  {
   "cell_type": "code",
   "execution_count": null,
   "metadata": {},
   "outputs": [],
   "source": [
    "with open(CSV_PATH, 'r') as csvfile:\n",
    "    reader = csv.DictReader(csvfile, delimiter = ',')\n",
    "    for index, row in enumerate(reader):  \n",
    "        # don't parse if there is video or multiple images in post\n",
    "        if row['multipleImage'] == 'True' or row['isVideo'] == 'True':\n",
    "            continue\n",
    "        \n",
    "        # user meta\n",
    "        alias = row['alias']\n",
    "        numberFollowing = row['numberFollowing']\n",
    "        numberFollowers = row['numberFollowers']\n",
    "        \n",
    "        # post meta\n",
    "        urlImage = row['urlImage']\n",
    "        numberLikes = row['numberLikes']\n",
    "        date = row['date']\n",
    "        mentions = row['mentions']\n",
    "        localization = row['localization']\n",
    "        tags = row['tags']\n",
    "        url = row['url']\n",
    "        description = row['description']\n",
    "        \n",
    "        try:\n",
    "            filename = write_post(dataset_dir=DATASET_DIR, alias=alias, urlImage=urlImage)\n",
    "        except:\n",
    "            print \"error in row\", index\n",
    "            continue\n",
    "        \n",
    "        add_row = [filename,\n",
    "                   alias,\n",
    "                   numberFollowing,\n",
    "                   numberFollowers,\n",
    "                   urlImage,\n",
    "                   numberLikes,\n",
    "                   date,\n",
    "                   mentions,\n",
    "                   localization,\n",
    "                   tags,\n",
    "                   url,\n",
    "                   description]\n",
    "        \n",
    "        # append posts.csv\n",
    "        write_to_csv(POSTS_CSV_PATH, new_row = add_row, new_file = 'no')"
   ]
  },
  {
   "cell_type": "code",
   "execution_count": 37,
   "metadata": {
    "collapsed": true
   },
   "outputs": [],
   "source": [
    "# url = 'https://www.instagram.com/1misssmeis/'\n",
    "\n",
    "# username = re.search(r'(^.*.com/)(.*)([/])' , url).group(2)"
   ]
  }
 ],
 "metadata": {
  "kernelspec": {
   "display_name": "Python 2",
   "language": "python",
   "name": "python2"
  },
  "language_info": {
   "codemirror_mode": {
    "name": "ipython",
    "version": 2
   },
   "file_extension": ".py",
   "mimetype": "text/x-python",
   "name": "python",
   "nbconvert_exporter": "python",
   "pygments_lexer": "ipython2",
   "version": "2.7.13"
  }
 },
 "nbformat": 4,
 "nbformat_minor": 2
}
