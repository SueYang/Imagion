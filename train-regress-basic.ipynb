{
 "cells": [
  {
   "cell_type": "markdown",
   "metadata": {},
   "source": [
    "## TO DO\n",
    "\n",
    "- Delete empty images and add them to clean_dataset folder [DONE]\n",
    "- Figure out how to shuffle by user, rather than by photo, make comparisons within users [DONE]\n",
    "- Figure out how to do proper testing (code to pair up images randomly, predict their score using neural network, and then compare whether the ordinal match was right using our score) [DONE]\n",
    "\n",
    "- Change training code to pull only images from new training set\n",
    "\n",
    "### TO DO LATER\n",
    "- Figure out how to incoroporate regression output\n",
    "- Rewrite of code"
   ]
  },
  {
   "cell_type": "markdown",
   "metadata": {},
   "source": [
    "## Create Neural Network"
   ]
  },
  {
   "cell_type": "code",
   "execution_count": 1,
   "metadata": {},
   "outputs": [
    {
     "name": "stderr",
     "output_type": "stream",
     "text": [
      "Using TensorFlow backend.\n"
     ]
    },
    {
     "name": "stdout",
     "output_type": "stream",
     "text": [
      "_________________________________________________________________\n",
      "Layer (type)                 Output Shape              Param #   \n",
      "=================================================================\n",
      "conv2d_1 (Conv2D)            (None, 156, 156, 32)      2432      \n",
      "_________________________________________________________________\n",
      "max_pooling2d_1 (MaxPooling2 (None, 78, 78, 32)        0         \n",
      "_________________________________________________________________\n",
      "conv2d_2 (Conv2D)            (None, 74, 74, 64)        51264     \n",
      "_________________________________________________________________\n",
      "max_pooling2d_2 (MaxPooling2 (None, 37, 37, 64)        0         \n",
      "_________________________________________________________________\n",
      "flatten_1 (Flatten)          (None, 87616)             0         \n",
      "_________________________________________________________________\n",
      "dense_1 (Dense)              (None, 256)               22429952  \n",
      "_________________________________________________________________\n",
      "dense_2 (Dense)              (None, 1)                 257       \n",
      "=================================================================\n",
      "Total params: 22,483,905\n",
      "Trainable params: 22,483,905\n",
      "Non-trainable params: 0\n",
      "_________________________________________________________________\n"
     ]
    }
   ],
   "source": [
    "from keras.models import Sequential\n",
    "from keras.layers import Dense, Conv2D, MaxPooling2D, Flatten\n",
    "from keras.wrappers.scikit_learn import KerasRegressor\n",
    "\n",
    "# define the model\n",
    "def larger_model():\n",
    "    # create model\n",
    "    model = Sequential()\n",
    "    model.add(Conv2D(32, kernel_size=(5, 5), strides=(1, 1),\n",
    "                     activation='relu',\n",
    "                     input_shape=(160,160,3)))\n",
    "    model.add(MaxPooling2D(pool_size=(2, 2), strides=(2, 2)))\n",
    "    model.add(Conv2D(64, (5, 5), activation='relu'))\n",
    "    model.add(MaxPooling2D(pool_size=(2, 2)))\n",
    "    model.add(Flatten())\n",
    "    model.add(Dense(256, activation='relu'))\n",
    "    model.add(Dense(1))\n",
    "    \n",
    "    # Compile model\n",
    "    model.compile(loss='mse', optimizer='adam')\n",
    "    return model\n",
    "\n",
    "basic_model = larger_model()\n",
    "\n",
    "basic_model.summary()"
   ]
  },
  {
   "cell_type": "markdown",
   "metadata": {},
   "source": [
    "## Train Neural Network"
   ]
  },
  {
   "cell_type": "code",
   "execution_count": 2,
   "metadata": {
    "collapsed": true
   },
   "outputs": [],
   "source": [
    "import cv2\n",
    "import numpy as np\n",
    "import csv, sqlite3\n",
    "import math\n",
    "import os\n",
    "import random"
   ]
  },
  {
   "cell_type": "code",
   "execution_count": 3,
   "metadata": {
    "collapsed": true
   },
   "outputs": [],
   "source": [
    "\"\"\"\n",
    "Create dictionary with:\n",
    "Key = filename root\n",
    "Value = score\n",
    "\"\"\"\n",
    "\n",
    "con = sqlite3.connect(\"imagion.db\")\n",
    "cur = con.cursor()\n",
    "\n",
    "table_cols = [i[0] for i in cur.execute(\"SELECT * FROM slimscores\").description]\n",
    "\n",
    "def get_filenames(): \n",
    "    files_dict = {}\n",
    "    \n",
    "    cur.execute(\"SELECT filename, norm_score FROM slimscores\")\n",
    "    \n",
    "    count = 0\n",
    "    \n",
    "    for file_, score in cur.fetchall():\n",
    "        if count == 0:\n",
    "            count += 1\n",
    "            continue\n",
    "        \n",
    "        files_dict[file_] = score\n",
    "            \n",
    "        count += 1 \n",
    "        \n",
    "    return files_dict\n",
    "\n",
    "files_dict = get_filenames()"
   ]
  },
  {
   "cell_type": "code",
   "execution_count": 4,
   "metadata": {
    "collapsed": true
   },
   "outputs": [],
   "source": [
    "\"\"\"\n",
    "Create dictionary with:\n",
    "Key = alias\n",
    "Value = list of filenames for user\n",
    "\"\"\"\n",
    "\n",
    "DATASET_DIR = 'data_images'\n",
    "\n",
    "def create_user_dict(dataset_dir):\n",
    "    user_dict = {}\n",
    "    \n",
    "    for filename in os.listdir(dataset_dir):\n",
    "        filename = filename.rsplit('.', 1)[0]\n",
    "        alias = filename.rsplit('_', 1)[0]\n",
    "        \n",
    "        # do not include outliers\n",
    "        if filename not in files_dict.keys():\n",
    "            continue\n",
    "            \n",
    "        if alias not in user_dict:\n",
    "            user_dict[alias] = [filename]\n",
    "        else:\n",
    "            user_dict[alias].append(filename)\n",
    "            \n",
    "    return user_dict\n",
    "\n",
    "user_dict = create_user_dict(DATASET_DIR)        "
   ]
  },
  {
   "cell_type": "code",
   "execution_count": 5,
   "metadata": {
    "collapsed": true
   },
   "outputs": [],
   "source": [
    "\"\"\"Split training and test images\"\"\"\n",
    "\n",
    "PERCENT_TRAINING = 0.75 \n",
    "\n",
    "random.seed(10)\n",
    "keys = user_dict.keys()\n",
    "\n",
    "split = int(len(user_dict.keys()) * PERCENT_TRAINING)\n",
    "\n",
    "random.shuffle(keys) # revisit this shuffle function\n",
    "\n",
    "train_users = keys[:split]\n",
    "test_users = keys[split:]\n",
    "\n",
    "train_keys = []\n",
    "test_keys = []\n",
    "\n",
    "for user in train_users:\n",
    "    for filename in user_dict[user]:\n",
    "        train_keys.append(filename)\n",
    "        \n",
    "for user in test_users:\n",
    "    for filename in user_dict[user]:\n",
    "        test_keys.append(filename)\n",
    "        \n",
    "random.shuffle(train_keys)\n",
    "random.shuffle(test_keys)"
   ]
  },
  {
   "cell_type": "code",
   "execution_count": 6,
   "metadata": {
    "collapsed": true
   },
   "outputs": [],
   "source": [
    "def chunks(l, n):\n",
    "    \"\"\"Yield successive n-sized chunks from l\"\"\"\n",
    "    for i in xrange(0, len(l), n):\n",
    "        yield l[i:i+n]\n",
    "\n",
    "def get_train_data(chunk, img_row, img_col):\n",
    "    X_train = []\n",
    "    Y_train = []\n",
    "    \n",
    "    for imgname in chunk:\n",
    "        try:\n",
    "            filename = 'data_images'+'/'+imgname+'.png'\n",
    "            img = cv2.imread(filename)\n",
    "            img = cv2.resize(img,(img_row,img_col))\n",
    "            X_train.append(img)\n",
    "            Y_train.append(files_dict[imgname])\n",
    "        except: \n",
    "            continue\n",
    "    X_train = np.asarray(X_train)\n",
    "    Y_train = np.asarray(Y_train)\n",
    "\n",
    "    return X_train,Y_train\n",
    "    \n",
    "def get_test_data(chunk, img_row, img_col):\n",
    "    X_test = []\n",
    "    Y_test = []\n",
    "    \n",
    "    for imgname in chunk:\n",
    "        try:\n",
    "            filename = './data_images'+'/'+imgname+'.png'\n",
    "            img = cv2.imread(filename)\n",
    "            img = cv2.resize(img,(img_row,img_col))\n",
    "            X_test.append(img)\n",
    "            Y_test.append(files_dict[imgname])\n",
    "        except:\n",
    "            continue\n",
    "    X_test = np.asarray(X_test)\n",
    "    Y_test = np.asarray(Y_test)\n",
    "\n",
    "    return X_test,Y_test\n",
    "\n",
    "def getTrainData(chunk,img_rows,img_cols):\n",
    "    X_train,Y_train = get_train_data(chunk,img_rows,img_cols)\n",
    "    if (X_train is not None and Y_train is not None):\n",
    "        X_train/=255\n",
    "    return (X_train,Y_train)\n",
    "\n",
    "def getTestData(chunk,img_rows,img_cols):\n",
    "    X_test,Y_test = get_test_data(chunk,img_rows,img_cols)\n",
    "    if (X_test is not None and Y_test is not None):\n",
    "        X_test/=255\n",
    "    return (X_test,Y_test)\n",
    "\n",
    "def test(model, nb_epoch, spatial_test_data, img_rows, img_cols):\n",
    "    X_test,Y_test = getTestData(test_keys,img_rows,img_cols)\n",
    "    return (X_test, Y_test)\n"
   ]
  },
  {
   "cell_type": "code",
   "execution_count": 8,
   "metadata": {
    "collapsed": true
   },
   "outputs": [],
   "source": [
    "num_epochs = 1\n",
    "nb_epoch = 100\n",
    "batch_size = 2\n",
    "chunk_size = 32\n",
    "img_rows = 160\n",
    "img_cols = 160"
   ]
  },
  {
   "cell_type": "code",
   "execution_count": 9,
   "metadata": {
    "scrolled": true
   },
   "outputs": [
    {
     "name": "stdout",
     "output_type": "stream",
     "text": [
      "----------------------------------------\n",
      "Epoch 0\n",
      "----------------------------------------\n",
      "Training...\n",
      "Epoch 1/1\n",
      "32/32 [==============================] - 13s - loss: 47.4927    \n",
      "Instance Count: 32\n",
      "Epoch 1/1\n",
      "32/32 [==============================] - 13s - loss: 207.6136    \n",
      "Instance Count: 64\n",
      "Epoch 1/1\n",
      "32/32 [==============================] - 12s - loss: 2.3891    \n",
      "Instance Count: 96\n",
      "Epoch 1/1\n",
      "32/32 [==============================] - 14s - loss: 0.4943    \n",
      "Instance Count: 128\n",
      "Epoch 1/1\n",
      "32/32 [==============================] - 14s - loss: 0.4728    \n",
      "Instance Count: 160\n",
      "Epoch 1/1\n",
      "32/32 [==============================] - 14s - loss: 0.4305    \n",
      "Instance Count: 192\n",
      "Epoch 1/1\n",
      "32/32 [==============================] - 14s - loss: 0.3603    \n",
      "Instance Count: 224\n",
      "Epoch 1/1\n",
      "32/32 [==============================] - 13s - loss: 0.4121    \n",
      "Instance Count: 256\n",
      "Epoch 1/1\n",
      "32/32 [==============================] - 14s - loss: 0.2035    \n",
      "Instance Count: 288\n",
      "Epoch 1/1\n",
      "32/32 [==============================] - 14s - loss: 0.2918    \n",
      "Instance Count: 320\n",
      "Epoch 1/1\n",
      "32/32 [==============================] - 13s - loss: 0.2974    \n",
      "Instance Count: 352\n",
      "Epoch 1/1\n",
      "32/32 [==============================] - 13s - loss: 0.3149    \n",
      "Instance Count: 384\n",
      "Epoch 1/1\n",
      "32/32 [==============================] - 14s - loss: 0.2402    \n",
      "Instance Count: 416\n",
      "Epoch 1/1\n",
      "32/32 [==============================] - 12s - loss: 0.2234    \n",
      "Instance Count: 448\n",
      "Epoch 1/1\n",
      "32/32 [==============================] - 12s - loss: 0.2359    \n",
      "Instance Count: 480\n",
      "Epoch 1/1\n",
      "32/32 [==============================] - 12s - loss: 0.1977    \n",
      "Instance Count: 512\n",
      "Epoch 1/1\n",
      "32/32 [==============================] - 14s - loss: 0.3077    \n",
      "Instance Count: 544\n",
      "Epoch 1/1\n",
      "32/32 [==============================] - 14s - loss: 0.2015    \n",
      "Instance Count: 576\n",
      "Epoch 1/1\n",
      "32/32 [==============================] - 13s - loss: 0.4039    \n",
      "Instance Count: 608\n",
      "Epoch 1/1\n",
      "32/32 [==============================] - 14s - loss: 0.1572    \n",
      "Instance Count: 640\n",
      "Epoch 1/1\n",
      "32/32 [==============================] - 14s - loss: 0.2240    \n",
      "Instance Count: 672\n",
      "Epoch 1/1\n",
      "32/32 [==============================] - 12s - loss: 0.2329    \n",
      "Instance Count: 704\n",
      "Epoch 1/1\n",
      "22/31 [====================>.........] - ETA: 3s - loss: 0.0796"
     ]
    },
    {
     "ename": "KeyboardInterrupt",
     "evalue": "",
     "output_type": "error",
     "traceback": [
      "\u001b[0;31m---------------------------------------------------------------------------\u001b[0m",
      "\u001b[0;31mKeyboardInterrupt\u001b[0m                         Traceback (most recent call last)",
      "\u001b[0;32m<ipython-input-9-49a2d965bf48>\u001b[0m in \u001b[0;36m<module>\u001b[0;34m()\u001b[0m\n\u001b[1;32m     11\u001b[0m \u001b[0;34m\u001b[0m\u001b[0m\n\u001b[1;32m     12\u001b[0m         \u001b[0;32mif\u001b[0m \u001b[0;34m(\u001b[0m\u001b[0mX_chunk\u001b[0m \u001b[0;32mis\u001b[0m \u001b[0;32mnot\u001b[0m \u001b[0mNone\u001b[0m \u001b[0;32mand\u001b[0m \u001b[0mY_chunk\u001b[0m \u001b[0;32mis\u001b[0m \u001b[0;32mnot\u001b[0m \u001b[0mNone\u001b[0m\u001b[0;34m)\u001b[0m\u001b[0;34m:\u001b[0m\u001b[0;34m\u001b[0m\u001b[0m\n\u001b[0;32m---> 13\u001b[0;31m             \u001b[0mloss\u001b[0m \u001b[0;34m=\u001b[0m \u001b[0mbasic_model\u001b[0m\u001b[0;34m.\u001b[0m\u001b[0mfit\u001b[0m\u001b[0;34m(\u001b[0m\u001b[0mX_chunk\u001b[0m\u001b[0;34m,\u001b[0m \u001b[0mY_chunk\u001b[0m\u001b[0;34m,\u001b[0m \u001b[0mverbose\u001b[0m\u001b[0;34m=\u001b[0m\u001b[0;36m1\u001b[0m\u001b[0;34m,\u001b[0m \u001b[0mbatch_size\u001b[0m\u001b[0;34m=\u001b[0m\u001b[0mbatch_size\u001b[0m\u001b[0;34m,\u001b[0m \u001b[0mepochs\u001b[0m\u001b[0;34m=\u001b[0m\u001b[0mnum_epochs\u001b[0m\u001b[0;34m)\u001b[0m\u001b[0;34m\u001b[0m\u001b[0m\n\u001b[0m\u001b[1;32m     14\u001b[0m             \u001b[0minstance_count\u001b[0m\u001b[0;34m+=\u001b[0m\u001b[0mchunk_size\u001b[0m\u001b[0;34m\u001b[0m\u001b[0m\n\u001b[1;32m     15\u001b[0m \u001b[0;34m\u001b[0m\u001b[0m\n",
      "\u001b[0;32m/home/haroon_choudery/anaconda2/lib/python2.7/site-packages/keras/models.pyc\u001b[0m in \u001b[0;36mfit\u001b[0;34m(self, x, y, batch_size, epochs, verbose, callbacks, validation_split, validation_data, shuffle, class_weight, sample_weight, initial_epoch, **kwargs)\u001b[0m\n\u001b[1;32m    865\u001b[0m                               \u001b[0mclass_weight\u001b[0m\u001b[0;34m=\u001b[0m\u001b[0mclass_weight\u001b[0m\u001b[0;34m,\u001b[0m\u001b[0;34m\u001b[0m\u001b[0m\n\u001b[1;32m    866\u001b[0m                               \u001b[0msample_weight\u001b[0m\u001b[0;34m=\u001b[0m\u001b[0msample_weight\u001b[0m\u001b[0;34m,\u001b[0m\u001b[0;34m\u001b[0m\u001b[0m\n\u001b[0;32m--> 867\u001b[0;31m                               initial_epoch=initial_epoch)\n\u001b[0m\u001b[1;32m    868\u001b[0m \u001b[0;34m\u001b[0m\u001b[0m\n\u001b[1;32m    869\u001b[0m     def evaluate(self, x, y, batch_size=32, verbose=1,\n",
      "\u001b[0;32m/home/haroon_choudery/anaconda2/lib/python2.7/site-packages/keras/engine/training.pyc\u001b[0m in \u001b[0;36mfit\u001b[0;34m(self, x, y, batch_size, epochs, verbose, callbacks, validation_split, validation_data, shuffle, class_weight, sample_weight, initial_epoch, steps_per_epoch, validation_steps, **kwargs)\u001b[0m\n\u001b[1;32m   1596\u001b[0m                               \u001b[0minitial_epoch\u001b[0m\u001b[0;34m=\u001b[0m\u001b[0minitial_epoch\u001b[0m\u001b[0;34m,\u001b[0m\u001b[0;34m\u001b[0m\u001b[0m\n\u001b[1;32m   1597\u001b[0m                               \u001b[0msteps_per_epoch\u001b[0m\u001b[0;34m=\u001b[0m\u001b[0msteps_per_epoch\u001b[0m\u001b[0;34m,\u001b[0m\u001b[0;34m\u001b[0m\u001b[0m\n\u001b[0;32m-> 1598\u001b[0;31m                               validation_steps=validation_steps)\n\u001b[0m\u001b[1;32m   1599\u001b[0m \u001b[0;34m\u001b[0m\u001b[0m\n\u001b[1;32m   1600\u001b[0m     def evaluate(self, x, y,\n",
      "\u001b[0;32m/home/haroon_choudery/anaconda2/lib/python2.7/site-packages/keras/engine/training.pyc\u001b[0m in \u001b[0;36m_fit_loop\u001b[0;34m(self, f, ins, out_labels, batch_size, epochs, verbose, callbacks, val_f, val_ins, shuffle, callback_metrics, initial_epoch, steps_per_epoch, validation_steps)\u001b[0m\n\u001b[1;32m   1181\u001b[0m                     \u001b[0mbatch_logs\u001b[0m\u001b[0;34m[\u001b[0m\u001b[0;34m'size'\u001b[0m\u001b[0;34m]\u001b[0m \u001b[0;34m=\u001b[0m \u001b[0mlen\u001b[0m\u001b[0;34m(\u001b[0m\u001b[0mbatch_ids\u001b[0m\u001b[0;34m)\u001b[0m\u001b[0;34m\u001b[0m\u001b[0m\n\u001b[1;32m   1182\u001b[0m                     \u001b[0mcallbacks\u001b[0m\u001b[0;34m.\u001b[0m\u001b[0mon_batch_begin\u001b[0m\u001b[0;34m(\u001b[0m\u001b[0mbatch_index\u001b[0m\u001b[0;34m,\u001b[0m \u001b[0mbatch_logs\u001b[0m\u001b[0;34m)\u001b[0m\u001b[0;34m\u001b[0m\u001b[0m\n\u001b[0;32m-> 1183\u001b[0;31m                     \u001b[0mouts\u001b[0m \u001b[0;34m=\u001b[0m \u001b[0mf\u001b[0m\u001b[0;34m(\u001b[0m\u001b[0mins_batch\u001b[0m\u001b[0;34m)\u001b[0m\u001b[0;34m\u001b[0m\u001b[0m\n\u001b[0m\u001b[1;32m   1184\u001b[0m                     \u001b[0;32mif\u001b[0m \u001b[0;32mnot\u001b[0m \u001b[0misinstance\u001b[0m\u001b[0;34m(\u001b[0m\u001b[0mouts\u001b[0m\u001b[0;34m,\u001b[0m \u001b[0mlist\u001b[0m\u001b[0;34m)\u001b[0m\u001b[0;34m:\u001b[0m\u001b[0;34m\u001b[0m\u001b[0m\n\u001b[1;32m   1185\u001b[0m                         \u001b[0mouts\u001b[0m \u001b[0;34m=\u001b[0m \u001b[0;34m[\u001b[0m\u001b[0mouts\u001b[0m\u001b[0;34m]\u001b[0m\u001b[0;34m\u001b[0m\u001b[0m\n",
      "\u001b[0;32m/home/haroon_choudery/anaconda2/lib/python2.7/site-packages/keras/backend/tensorflow_backend.pyc\u001b[0m in \u001b[0;36m__call__\u001b[0;34m(self, inputs)\u001b[0m\n\u001b[1;32m   2271\u001b[0m         updated = session.run(self.outputs + [self.updates_op],\n\u001b[1;32m   2272\u001b[0m                               \u001b[0mfeed_dict\u001b[0m\u001b[0;34m=\u001b[0m\u001b[0mfeed_dict\u001b[0m\u001b[0;34m,\u001b[0m\u001b[0;34m\u001b[0m\u001b[0m\n\u001b[0;32m-> 2273\u001b[0;31m                               **self.session_kwargs)\n\u001b[0m\u001b[1;32m   2274\u001b[0m         \u001b[0;32mreturn\u001b[0m \u001b[0mupdated\u001b[0m\u001b[0;34m[\u001b[0m\u001b[0;34m:\u001b[0m\u001b[0mlen\u001b[0m\u001b[0;34m(\u001b[0m\u001b[0mself\u001b[0m\u001b[0;34m.\u001b[0m\u001b[0moutputs\u001b[0m\u001b[0;34m)\u001b[0m\u001b[0;34m]\u001b[0m\u001b[0;34m\u001b[0m\u001b[0m\n\u001b[1;32m   2275\u001b[0m \u001b[0;34m\u001b[0m\u001b[0m\n",
      "\u001b[0;32m/home/haroon_choudery/anaconda2/lib/python2.7/site-packages/tensorflow/python/client/session.pyc\u001b[0m in \u001b[0;36mrun\u001b[0;34m(self, fetches, feed_dict, options, run_metadata)\u001b[0m\n\u001b[1;32m    776\u001b[0m     \u001b[0;32mtry\u001b[0m\u001b[0;34m:\u001b[0m\u001b[0;34m\u001b[0m\u001b[0m\n\u001b[1;32m    777\u001b[0m       result = self._run(None, fetches, feed_dict, options_ptr,\n\u001b[0;32m--> 778\u001b[0;31m                          run_metadata_ptr)\n\u001b[0m\u001b[1;32m    779\u001b[0m       \u001b[0;32mif\u001b[0m \u001b[0mrun_metadata\u001b[0m\u001b[0;34m:\u001b[0m\u001b[0;34m\u001b[0m\u001b[0m\n\u001b[1;32m    780\u001b[0m         \u001b[0mproto_data\u001b[0m \u001b[0;34m=\u001b[0m \u001b[0mtf_session\u001b[0m\u001b[0;34m.\u001b[0m\u001b[0mTF_GetBuffer\u001b[0m\u001b[0;34m(\u001b[0m\u001b[0mrun_metadata_ptr\u001b[0m\u001b[0;34m)\u001b[0m\u001b[0;34m\u001b[0m\u001b[0m\n",
      "\u001b[0;32m/home/haroon_choudery/anaconda2/lib/python2.7/site-packages/tensorflow/python/client/session.pyc\u001b[0m in \u001b[0;36m_run\u001b[0;34m(self, handle, fetches, feed_dict, options, run_metadata)\u001b[0m\n\u001b[1;32m    980\u001b[0m     \u001b[0;32mif\u001b[0m \u001b[0mfinal_fetches\u001b[0m \u001b[0;32mor\u001b[0m \u001b[0mfinal_targets\u001b[0m\u001b[0;34m:\u001b[0m\u001b[0;34m\u001b[0m\u001b[0m\n\u001b[1;32m    981\u001b[0m       results = self._do_run(handle, final_targets, final_fetches,\n\u001b[0;32m--> 982\u001b[0;31m                              feed_dict_string, options, run_metadata)\n\u001b[0m\u001b[1;32m    983\u001b[0m     \u001b[0;32melse\u001b[0m\u001b[0;34m:\u001b[0m\u001b[0;34m\u001b[0m\u001b[0m\n\u001b[1;32m    984\u001b[0m       \u001b[0mresults\u001b[0m \u001b[0;34m=\u001b[0m \u001b[0;34m[\u001b[0m\u001b[0;34m]\u001b[0m\u001b[0;34m\u001b[0m\u001b[0m\n",
      "\u001b[0;32m/home/haroon_choudery/anaconda2/lib/python2.7/site-packages/tensorflow/python/client/session.pyc\u001b[0m in \u001b[0;36m_do_run\u001b[0;34m(self, handle, target_list, fetch_list, feed_dict, options, run_metadata)\u001b[0m\n\u001b[1;32m   1030\u001b[0m     \u001b[0;32mif\u001b[0m \u001b[0mhandle\u001b[0m \u001b[0;32mis\u001b[0m \u001b[0mNone\u001b[0m\u001b[0;34m:\u001b[0m\u001b[0;34m\u001b[0m\u001b[0m\n\u001b[1;32m   1031\u001b[0m       return self._do_call(_run_fn, self._session, feed_dict, fetch_list,\n\u001b[0;32m-> 1032\u001b[0;31m                            target_list, options, run_metadata)\n\u001b[0m\u001b[1;32m   1033\u001b[0m     \u001b[0;32melse\u001b[0m\u001b[0;34m:\u001b[0m\u001b[0;34m\u001b[0m\u001b[0m\n\u001b[1;32m   1034\u001b[0m       return self._do_call(_prun_fn, self._session, handle, feed_dict,\n",
      "\u001b[0;32m/home/haroon_choudery/anaconda2/lib/python2.7/site-packages/tensorflow/python/client/session.pyc\u001b[0m in \u001b[0;36m_do_call\u001b[0;34m(self, fn, *args)\u001b[0m\n\u001b[1;32m   1037\u001b[0m   \u001b[0;32mdef\u001b[0m \u001b[0m_do_call\u001b[0m\u001b[0;34m(\u001b[0m\u001b[0mself\u001b[0m\u001b[0;34m,\u001b[0m \u001b[0mfn\u001b[0m\u001b[0;34m,\u001b[0m \u001b[0;34m*\u001b[0m\u001b[0margs\u001b[0m\u001b[0;34m)\u001b[0m\u001b[0;34m:\u001b[0m\u001b[0;34m\u001b[0m\u001b[0m\n\u001b[1;32m   1038\u001b[0m     \u001b[0;32mtry\u001b[0m\u001b[0;34m:\u001b[0m\u001b[0;34m\u001b[0m\u001b[0m\n\u001b[0;32m-> 1039\u001b[0;31m       \u001b[0;32mreturn\u001b[0m \u001b[0mfn\u001b[0m\u001b[0;34m(\u001b[0m\u001b[0;34m*\u001b[0m\u001b[0margs\u001b[0m\u001b[0;34m)\u001b[0m\u001b[0;34m\u001b[0m\u001b[0m\n\u001b[0m\u001b[1;32m   1040\u001b[0m     \u001b[0;32mexcept\u001b[0m \u001b[0merrors\u001b[0m\u001b[0;34m.\u001b[0m\u001b[0mOpError\u001b[0m \u001b[0;32mas\u001b[0m \u001b[0me\u001b[0m\u001b[0;34m:\u001b[0m\u001b[0;34m\u001b[0m\u001b[0m\n\u001b[1;32m   1041\u001b[0m       \u001b[0mmessage\u001b[0m \u001b[0;34m=\u001b[0m \u001b[0mcompat\u001b[0m\u001b[0;34m.\u001b[0m\u001b[0mas_text\u001b[0m\u001b[0;34m(\u001b[0m\u001b[0me\u001b[0m\u001b[0;34m.\u001b[0m\u001b[0mmessage\u001b[0m\u001b[0;34m)\u001b[0m\u001b[0;34m\u001b[0m\u001b[0m\n",
      "\u001b[0;32m/home/haroon_choudery/anaconda2/lib/python2.7/site-packages/tensorflow/python/client/session.pyc\u001b[0m in \u001b[0;36m_run_fn\u001b[0;34m(session, feed_dict, fetch_list, target_list, options, run_metadata)\u001b[0m\n\u001b[1;32m   1019\u001b[0m         return tf_session.TF_Run(session, options,\n\u001b[1;32m   1020\u001b[0m                                  \u001b[0mfeed_dict\u001b[0m\u001b[0;34m,\u001b[0m \u001b[0mfetch_list\u001b[0m\u001b[0;34m,\u001b[0m \u001b[0mtarget_list\u001b[0m\u001b[0;34m,\u001b[0m\u001b[0;34m\u001b[0m\u001b[0m\n\u001b[0;32m-> 1021\u001b[0;31m                                  status, run_metadata)\n\u001b[0m\u001b[1;32m   1022\u001b[0m \u001b[0;34m\u001b[0m\u001b[0m\n\u001b[1;32m   1023\u001b[0m     \u001b[0;32mdef\u001b[0m \u001b[0m_prun_fn\u001b[0m\u001b[0;34m(\u001b[0m\u001b[0msession\u001b[0m\u001b[0;34m,\u001b[0m \u001b[0mhandle\u001b[0m\u001b[0;34m,\u001b[0m \u001b[0mfeed_dict\u001b[0m\u001b[0;34m,\u001b[0m \u001b[0mfetch_list\u001b[0m\u001b[0;34m)\u001b[0m\u001b[0;34m:\u001b[0m\u001b[0;34m\u001b[0m\u001b[0m\n",
      "\u001b[0;31mKeyboardInterrupt\u001b[0m: "
     ]
    }
   ],
   "source": [
    "for e in range(nb_epoch):\n",
    "    print('-'*40)\n",
    "    print 'Epoch', e\n",
    "    print('-'*40)\n",
    "    print \"Training...\"\n",
    "    instance_count=0\n",
    "\n",
    "\n",
    "    for chunk in chunks(train_keys, chunk_size):\n",
    "        X_chunk,Y_chunk=getTrainData(chunk,img_rows,img_cols)\n",
    "\n",
    "        if (X_chunk is not None and Y_chunk is not None):\n",
    "            loss = basic_model.fit(X_chunk, Y_chunk, verbose=1, batch_size=batch_size, epochs=num_epochs)\n",
    "            instance_count+=chunk_size\n",
    "            \n",
    "            print \"Instance Count:\", instance_count\n",
    "            \n",
    "            if instance_count%64==0:\n",
    "                basic_model.save_weights('basic_model.h5',overwrite=True)"
   ]
  },
  {
   "cell_type": "markdown",
   "metadata": {},
   "source": [
    "## Load Weights"
   ]
  },
  {
   "cell_type": "code",
   "execution_count": 73,
   "metadata": {
    "collapsed": true
   },
   "outputs": [],
   "source": [
    "weights_path = 'basic_model.h5'\n",
    "\n",
    "if weights_path:\n",
    "    basic_model.load_weights(weights_path)"
   ]
  },
  {
   "cell_type": "code",
   "execution_count": null,
   "metadata": {
    "collapsed": true
   },
   "outputs": [],
   "source": [
    "\"\"\" SUDO CODE FOR CUSTOM ACCURACY FUNCTION\"\"\"\n",
    "\n",
    "DATASET_DIR = 'data_images'\n",
    "\n",
    "def test_accuracy():\n",
    "    count = 0\n",
    "    accuracy = 0\n",
    "    \n",
    "    for user in test_users:\n",
    "        user_imgs = user_dict[user]\n",
    "        \n",
    "        if len(user_imgs) > 1:\n",
    "           # get two elements from shuffled dictionary\n",
    "            element1 = user_imgs.pop(0)\n",
    "            element2 = user_imgs.pop(1)\n",
    "            \n",
    "            # read images\n",
    "            img1 = cv2.imread(os.path.join(DATASET_DIR, element1+'.png'))\n",
    "            img2 = cv2.imread(os.path.join(DATASET_DIR, element2+'.png'))\n",
    "            \n",
    "            #resize images\n",
    "            img1 = cv2.resize(img1,(img_rows,img_cols))\n",
    "            img2 = cv2.resize(img2,(img_rows,img_cols))\n",
    "            \n",
    "            # expand dimension\n",
    "            img1 = np.expand_dims(img1, axis=0)\n",
    "            img2 = np.expand_dims(img2, axis=0)\n",
    "        \n",
    "            # predict score for each image\n",
    "            predict1 = np.argmax(basic_model.predict(img1))\n",
    "            predict2 = np.argmax(basic_model.predict(img2))\n",
    "            \n",
    "            # compare whichever predicted score is higher\n",
    "            \n",
    "            # comparison dict\n",
    "            if predict1 > predict2:\n",
    "                max_predict = 'a'\n",
    "            elif predict1 < predict2:\n",
    "                max_predict = 'b'\n",
    "            else:\n",
    "                max_predict = 'equal'\n",
    "            \n",
    "            # compare whichever \"score\" is higher\n",
    "            if files_dict[element1] > files_dict[element2]:\n",
    "                max_actual = 'a'\n",
    "            elif files_dict[element1] < files_dict[element2]:\n",
    "                max_actual = 'b'\n",
    "            else:\n",
    "                max_actual = 'equal'\n",
    "\n",
    "            # check if comparisons match \n",
    "            if max_predict == max_actual:\n",
    "                accuracy +=1\n",
    "\n",
    "            count += 1\n",
    "            \n",
    "            print max_predict\n",
    "            print max_actual\n",
    "            print max_predict == max_actual\n",
    "            print '\\n'\n",
    "            \n",
    "        else:\n",
    "            continue\n",
    "    \n",
    "    accuracy_per = accuracy / count\n",
    "    \n",
    "    print count, \"comparisons made\"\n",
    "    print \"Accuracy score is:\", accuracy_per\n",
    "    \n",
    "    return\n",
    "\n",
    "test_accuracy()"
   ]
  },
  {
   "cell_type": "markdown",
   "metadata": {},
   "source": [
    "## Predict Test"
   ]
  },
  {
   "cell_type": "code",
   "execution_count": 21,
   "metadata": {},
   "outputs": [
    {
     "name": "stdout",
     "output_type": "stream",
     "text": [
      "1/1 [==============================] - 0s\n",
      "[[ 0.17531282]]\n"
     ]
    }
   ],
   "source": [
    "img_name = 'xostylistxo_6'\n",
    "\n",
    "img = cv2.imread('data_images/'+img_name+'.png')\n",
    "img = cv2.resize(img,(160,160))\n",
    "img = img/255\n",
    "img = np.expand_dims(img, axis=0)\n",
    "\n",
    "print basic_model.predict(img, verbose=1)"
   ]
  },
  {
   "cell_type": "code",
   "execution_count": 11,
   "metadata": {},
   "outputs": [
    {
     "name": "stdout",
     "output_type": "stream",
     "text": [
      "1/1 [==============================] - 0s\n",
      "[[ 0.34691712]]\n"
     ]
    }
   ],
   "source": [
    "img2 = cv2.imread('data_images/'+img_name+'.png')\n",
    "img2 = cv2.resize(img2,(160,160))\n",
    "img2 = img2/255\n",
    "img2 = np.expand_dims(img2, axis=0)\n",
    "\n",
    "print basic_model.predict(img2, verbose=1)"
   ]
  },
  {
   "cell_type": "code",
   "execution_count": null,
   "metadata": {
    "collapsed": true
   },
   "outputs": [],
   "source": []
  }
 ],
 "metadata": {
  "kernelspec": {
   "display_name": "Python 2",
   "language": "python",
   "name": "python2"
  },
  "language_info": {
   "codemirror_mode": {
    "name": "ipython",
    "version": 2
   },
   "file_extension": ".py",
   "mimetype": "text/x-python",
   "name": "python",
   "nbconvert_exporter": "python",
   "pygments_lexer": "ipython2",
   "version": "2.7.13"
  }
 },
 "nbformat": 4,
 "nbformat_minor": 2
}
