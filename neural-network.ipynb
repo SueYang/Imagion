{
 "cells": [
  {
   "cell_type": "markdown",
   "metadata": {},
   "source": [
    "## TO DO\n",
    "\n",
    "- Add code to convert labels to proper format\n",
    "- Figure out how to do proper testing (code to pair up images randomly, predict their score using neural network, and then compare whether the ordinal match was right using our score)\n",
    "- Figure out how to incoroporate regression output\n",
    "- Rewrite of code"
   ]
  },
  {
   "cell_type": "code",
   "execution_count": null,
   "metadata": {
    "collapsed": true
   },
   "outputs": [],
   "source": [
    "import os\n",
    "import shutil\n",
    "import random"
   ]
  },
  {
   "cell_type": "code",
   "execution_count": null,
   "metadata": {},
   "outputs": [],
   "source": [
    "origin = 'dataset'\n",
    "dest = 'data_images'\n",
    "\n",
    "for directory in os.listdir(origin):\n",
    "    for filename in os.listdir(os.path.join(origin, directory)):\n",
    "        shutil.copy(os.path.join(origin, directory, filename), dest)"
   ]
  },
  {
   "cell_type": "code",
   "execution_count": null,
   "metadata": {},
   "outputs": [],
   "source": [
    "# TODO resize all images to standard size\n",
    "\n",
    "from keras import applications\n",
    "from keras.layers import Input\n",
    "\n",
    "# If you want to specify input tensor\n",
    "input_tensor = Input(shape=(160, 160, 3))\n",
    "vgg_model = applications.VGG16(weights='imagenet',\n",
    "                               include_top=False,\n",
    "                               input_tensor=input_tensor)\n",
    "\n",
    "# To see the models' architecture and layer names, run the following\n",
    "vgg_model.summary()"
   ]
  },
  {
   "cell_type": "code",
   "execution_count": null,
   "metadata": {
    "collapsed": true
   },
   "outputs": [],
   "source": [
    "# Creating dictionary that maps layer names to the layers\n",
    "layer_dict = dict([(layer.name, layer) for layer in vgg_model.layers])\n",
    "\n",
    "# Getting output tensor of the last VGG layer that we want to include\n",
    "x = layer_dict['block4_pool'].output\n",
    "\n",
    "# Stacking a new simple convolutional network on top of it    \n",
    "x = Conv2D(filters=64, kernel_size=(3, 3), activation='relu')(x)\n",
    "x = MaxPooling2D(pool_size=(2, 2))(x)\n",
    "x = Flatten()(x)\n",
    "x = Dense(256, activation='relu')(x)\n",
    "x = Dropout(0.5)(x)\n",
    "x = Dense(10, activation='softmax')(x)\n",
    "\n",
    "# Creating new model. Please note that this is NOT a Sequential() model.\n",
    "from keras.models import Model\n",
    "custom_model = Model(input=vgg_model.input, output=x)\n",
    "\n",
    "# Make sure that the pre-trained bottom layers are not trainable\n",
    "for layer in custom_model.layers[:15]:\n",
    "    layer.trainable = False\n",
    "\n",
    "# Do not forget to compile it\n",
    "custom_model.compile(loss='categorical_crossentropy',\n",
    "                     optimizer='rmsprop',\n",
    "                     metrics=['accuracy'])\n",
    "\n"
   ]
  },
  {
   "cell_type": "code",
   "execution_count": null,
   "metadata": {},
   "outputs": [],
   "source": [
    "import csv, sqlite3\n",
    "import math\n",
    "\n",
    "con = sqlite3.connect(\"imagion.db\")\n",
    "cur = con.cursor()\n",
    "\n",
    "table_cols = [i[0] for i in cur.execute(\"SELECT * FROM imagion\").description]\n",
    "\n",
    "def get_filenames():\n",
    "    \n",
    "    files_dict = {}\n",
    "    \n",
    "    filenames = cur.execute(\"SELECT filename, scale_qsc FROM imagion\")\n",
    "    \n",
    "    for file_, int_score in filenames.fetchall():\n",
    "        files_dict[file_] = int_score\n",
    "        \n",
    "    return files_dict"
   ]
  },
  {
   "cell_type": "code",
   "execution_count": null,
   "metadata": {},
   "outputs": [],
   "source": [
    "files_dict = get_filenames()"
   ]
  },
  {
   "cell_type": "code",
   "execution_count": null,
   "metadata": {},
   "outputs": [],
   "source": [
    "# split training and test images\n",
    "\n",
    "random.seed(10)\n",
    "\n",
    "keys = files_dict.keys()\n",
    "split = int(len(files_dict.keys()) * 0.75)\n",
    "\n",
    "random.shuffle(keys)\n",
    "\n",
    "train_keys = keys[:split]\n",
    "test_keys = keys[split:]"
   ]
  },
  {
   "cell_type": "code",
   "execution_count": null,
   "metadata": {
    "collapsed": true
   },
   "outputs": [],
   "source": [
    "img_rows = 224\n",
    "img_cols = 224\n",
    "\n",
    "def chunks(l, n):\n",
    "    \"\"\"Yield successive n-sized chunks from l\"\"\"\n",
    "    for i in xrange(0, len(l), n):\n",
    "        yield l[i:i+n]\n",
    "\n",
    "def get_train_data(chunk, img_row, img_col):\n",
    "    X_train = []\n",
    "    Y_train = []\n",
    "    \n",
    "    try:\n",
    "        for imgname in chunk:\n",
    "            Y_train.append(files_dict[imgname])\n",
    "            filename = 'data_images'+'/'+imgname+'.png'\n",
    "            img = cv2.imread(filename)\n",
    "            img = np.rollaxis(cv2.resize(img,(img_row,img_col)).astype(np.float32),2)\n",
    "            X_train.append(img)\n",
    "\n",
    "        X_train = np.asarray(X_train)\n",
    "        Y_train = np.asarray(Y_train)\n",
    "        \n",
    "        return X_train,Y_train\n",
    "\n",
    "    except:\n",
    "        X_train=None\n",
    "        Y_train=None\n",
    "        return X_train,Y_train\n",
    "    \n",
    "def get_test_data(chunk, img_row, img_col):\n",
    "    X_test = []\n",
    "    Y_test = []\n",
    "    \n",
    "    try:\n",
    "        for imgname in chunk:\n",
    "            Y_test.append(files_dict[imgname])\n",
    "            folder = imgname[:idx]\n",
    "            filename = './data_images'+'/'+imgname+'.png'\n",
    "            img = cv2.imread(filename)\n",
    "            img = np.rollaxis(cv2.resize(img,(img_row,img_col)).astype(np.float32),2)\n",
    "            X_test.append(img)\n",
    "\n",
    "        X_test = np.asarray(X_test)\n",
    "        Y_test = np.asarray(Y_test)\n",
    "        return X_test,Y_test\n",
    "    except:\n",
    "        X_train=None\n",
    "        Y_train=None\n",
    "        return X_train,Y_train\n",
    "\n",
    "def getTrainData(chunk,nb_classes,img_rows,img_cols):\n",
    "    X_train,Y_train = get_train_data(chunk,img_rows,img_cols)\n",
    "    if (X_train!=None and Y_train!=None):\n",
    "        X_train/=255\n",
    "    return (X_train,Y_train)\n",
    "\n",
    "def getTestData(chunk,nb_classes,img_rows,img_cols):\n",
    "    X_test,Y_test = get_test_data(chunk,img_rows,img_cols)\n",
    "    if (X_test!=None and Y_test!=None):\n",
    "        X_test/=255\n",
    "    return (X_test,Y_test)\n",
    "\n"
   ]
  },
  {
   "cell_type": "code",
   "execution_count": null,
   "metadata": {},
   "outputs": [],
   "source": [
    "chunk_size = 10\n",
    "\n",
    "for chunk in chunks(train_keys, chunk_size):\n",
    "    X_chunk,Y_chunk=getTrainData(chunk,nb_classes,img_rows,img_cols)\n",
    "    \n",
    "    if (X_chunk!=None and Y_chunk!=None):\n",
    "                #for X_batch, Y_batch in datagen.flow(X_chunk, Y_chunk, batch_size=chunk_size):\n",
    "                loss = custom_model.fit(X_chunk, Y_chunk, verbose=1, batch_size=batch_size, nb_epoch=1, show_accuracy=True, validation_data=(X_test,Y_test))\n",
    "                instance_count+=chunk_size\n",
    "                print instance_count\n",
    "                if instance_count%100==0:\n",
    "                    model.save_weights('basic_model.h5',overwrite=True)"
   ]
  },
  {
   "cell_type": "code",
   "execution_count": null,
   "metadata": {
    "collapsed": true
   },
   "outputs": [],
   "source": []
  }
 ],
 "metadata": {
  "kernelspec": {
   "display_name": "Python 2",
   "language": "python",
   "name": "python2"
  },
  "language_info": {
   "codemirror_mode": {
    "name": "ipython",
    "version": 2
   },
   "file_extension": ".py",
   "mimetype": "text/x-python",
   "name": "python",
   "nbconvert_exporter": "python",
   "pygments_lexer": "ipython2",
   "version": "2.7.13"
  }
 },
 "nbformat": 4,
 "nbformat_minor": 2
}
