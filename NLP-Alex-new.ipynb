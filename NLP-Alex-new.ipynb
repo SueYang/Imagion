{
 "cells": [
  {
   "cell_type": "code",
   "execution_count": 2,
   "metadata": {
    "collapsed": true
   },
   "outputs": [],
   "source": [
    "%matplotlib inline\n",
    "import pandas as pd\n",
    "import numpy as np\n",
    "import re\n",
    "from sklearn import preprocessing"
   ]
  },
  {
   "cell_type": "code",
   "execution_count": 3,
   "metadata": {
    "collapsed": false
   },
   "outputs": [],
   "source": [
    "# need to remove 8283, 8284 from dataset\n",
    "data = pd.read_excel(\"data_insta.xlsx\")"
   ]
  },
  {
   "cell_type": "code",
   "execution_count": 5,
   "metadata": {
    "collapsed": false
   },
   "outputs": [
    {
     "data": {
      "text/html": [
       "<div>\n",
       "<table border=\"1\" class=\"dataframe\">\n",
       "  <thead>\n",
       "    <tr style=\"text-align: right;\">\n",
       "      <th></th>\n",
       "      <th>USERNAME</th>\n",
       "      <th>FOLLOWERS</th>\n",
       "      <th>FOLLOWING</th>\n",
       "      <th>LIKES</th>\n",
       "      <th>COMMENTS</th>\n",
       "      <th>TEXT</th>\n",
       "      <th>NUMBER OF TAGS</th>\n",
       "      <th>LIST OF TAGS</th>\n",
       "      <th>DATE</th>\n",
       "      <th>DAY(0 MONDAY,6 SUNDAY)</th>\n",
       "      <th>...</th>\n",
       "      <th>Unnamed: 30</th>\n",
       "      <th>Unnamed: 31</th>\n",
       "      <th>Unnamed: 32</th>\n",
       "      <th>Unnamed: 33</th>\n",
       "      <th>Unnamed: 34</th>\n",
       "      <th>Unnamed: 35</th>\n",
       "      <th>Unnamed: 36</th>\n",
       "      <th>Unnamed: 37</th>\n",
       "      <th>Unnamed: 38</th>\n",
       "      <th>Unnamed: 39</th>\n",
       "    </tr>\n",
       "  </thead>\n",
       "  <tbody>\n",
       "    <tr>\n",
       "      <th>0</th>\n",
       "      <td>georgiou82</td>\n",
       "      <td>1134619</td>\n",
       "      <td>915</td>\n",
       "      <td>18560</td>\n",
       "      <td>95</td>\n",
       "      <td>Every day is a #newday and every experience is...</td>\n",
       "      <td>2</td>\n",
       "      <td>#newera#newday</td>\n",
       "      <td>2017-02-11 11:05:10</td>\n",
       "      <td>5</td>\n",
       "      <td>...</td>\n",
       "      <td>NaN</td>\n",
       "      <td>NaN</td>\n",
       "      <td>NaN</td>\n",
       "      <td>NaN</td>\n",
       "      <td>NaN</td>\n",
       "      <td>NaN</td>\n",
       "      <td>NaN</td>\n",
       "      <td>NaN</td>\n",
       "      <td>NaN</td>\n",
       "      <td>NaN</td>\n",
       "    </tr>\n",
       "    <tr>\n",
       "      <th>1</th>\n",
       "      <td>georgiou82</td>\n",
       "      <td>1134619</td>\n",
       "      <td>915</td>\n",
       "      <td>17710</td>\n",
       "      <td>86</td>\n",
       "      <td>#goodnight !!! The #weekend is ahead!!! Have a...</td>\n",
       "      <td>3</td>\n",
       "      <td>#goodnight#goodone#weekend</td>\n",
       "      <td>2017-02-11 00:33:10</td>\n",
       "      <td>5</td>\n",
       "      <td>...</td>\n",
       "      <td>NaN</td>\n",
       "      <td>NaN</td>\n",
       "      <td>NaN</td>\n",
       "      <td>NaN</td>\n",
       "      <td>NaN</td>\n",
       "      <td>NaN</td>\n",
       "      <td>NaN</td>\n",
       "      <td>NaN</td>\n",
       "      <td>NaN</td>\n",
       "      <td>NaN</td>\n",
       "    </tr>\n",
       "    <tr>\n",
       "      <th>2</th>\n",
       "      <td>georgiou82</td>\n",
       "      <td>1134619</td>\n",
       "      <td>915</td>\n",
       "      <td>11959</td>\n",
       "      <td>79</td>\n",
       "      <td>#tb #2007 #stous31dromous #megatv #greece #new...</td>\n",
       "      <td>7</td>\n",
       "      <td>#tb#memories#greece#stous31dromous#newyork#200...</td>\n",
       "      <td>2017-02-09 15:51:47</td>\n",
       "      <td>3</td>\n",
       "      <td>...</td>\n",
       "      <td>NaN</td>\n",
       "      <td>NaN</td>\n",
       "      <td>NaN</td>\n",
       "      <td>NaN</td>\n",
       "      <td>NaN</td>\n",
       "      <td>NaN</td>\n",
       "      <td>NaN</td>\n",
       "      <td>NaN</td>\n",
       "      <td>NaN</td>\n",
       "      <td>NaN</td>\n",
       "    </tr>\n",
       "    <tr>\n",
       "      <th>3</th>\n",
       "      <td>georgiou82</td>\n",
       "      <td>1134619</td>\n",
       "      <td>915</td>\n",
       "      <td>13608</td>\n",
       "      <td>37</td>\n",
       "      <td>Cold weather brings people together.... #filmi...</td>\n",
       "      <td>2</td>\n",
       "      <td>#mprousko4#filming</td>\n",
       "      <td>2017-02-08 18:21:57</td>\n",
       "      <td>2</td>\n",
       "      <td>...</td>\n",
       "      <td>NaN</td>\n",
       "      <td>NaN</td>\n",
       "      <td>NaN</td>\n",
       "      <td>NaN</td>\n",
       "      <td>NaN</td>\n",
       "      <td>NaN</td>\n",
       "      <td>NaN</td>\n",
       "      <td>NaN</td>\n",
       "      <td>NaN</td>\n",
       "      <td>NaN</td>\n",
       "    </tr>\n",
       "    <tr>\n",
       "      <th>4</th>\n",
       "      <td>georgiou82</td>\n",
       "      <td>1134619</td>\n",
       "      <td>915</td>\n",
       "      <td>15842</td>\n",
       "      <td>62</td>\n",
       "      <td>The youngest hearts might be the oldest souls....</td>\n",
       "      <td>4</td>\n",
       "      <td>#peru#lifelessons#tb#andreasgeorgiou✔️</td>\n",
       "      <td>2017-02-08 13:03:14</td>\n",
       "      <td>2</td>\n",
       "      <td>...</td>\n",
       "      <td>NaN</td>\n",
       "      <td>NaN</td>\n",
       "      <td>NaN</td>\n",
       "      <td>NaN</td>\n",
       "      <td>NaN</td>\n",
       "      <td>NaN</td>\n",
       "      <td>NaN</td>\n",
       "      <td>NaN</td>\n",
       "      <td>NaN</td>\n",
       "      <td>NaN</td>\n",
       "    </tr>\n",
       "  </tbody>\n",
       "</table>\n",
       "<p>5 rows × 40 columns</p>\n",
       "</div>"
      ],
      "text/plain": [
       "     USERNAME  FOLLOWERS  FOLLOWING  LIKES  COMMENTS  \\\n",
       "0  georgiou82    1134619        915  18560        95   \n",
       "1  georgiou82    1134619        915  17710        86   \n",
       "2  georgiou82    1134619        915  11959        79   \n",
       "3  georgiou82    1134619        915  13608        37   \n",
       "4  georgiou82    1134619        915  15842        62   \n",
       "\n",
       "                                                TEXT NUMBER OF TAGS  \\\n",
       "0  Every day is a #newday and every experience is...              2   \n",
       "1  #goodnight !!! The #weekend is ahead!!! Have a...              3   \n",
       "2  #tb #2007 #stous31dromous #megatv #greece #new...              7   \n",
       "3  Cold weather brings people together.... #filmi...              2   \n",
       "4  The youngest hearts might be the oldest souls....              4   \n",
       "\n",
       "                                        LIST OF TAGS                 DATE  \\\n",
       "0                                     #newera#newday  2017-02-11 11:05:10   \n",
       "1                         #goodnight#goodone#weekend  2017-02-11 00:33:10   \n",
       "2  #tb#memories#greece#stous31dromous#newyork#200...  2017-02-09 15:51:47   \n",
       "3                                 #mprousko4#filming  2017-02-08 18:21:57   \n",
       "4             #peru#lifelessons#tb#andreasgeorgiou✔️  2017-02-08 13:03:14   \n",
       "\n",
       "  DAY(0 MONDAY,6 SUNDAY)     ...     Unnamed: 30 Unnamed: 31 Unnamed: 32  \\\n",
       "0                      5     ...             NaN         NaN         NaN   \n",
       "1                      5     ...             NaN         NaN         NaN   \n",
       "2                      3     ...             NaN         NaN         NaN   \n",
       "3                      2     ...             NaN         NaN         NaN   \n",
       "4                      2     ...             NaN         NaN         NaN   \n",
       "\n",
       "  Unnamed: 33 Unnamed: 34 Unnamed: 35 Unnamed: 36 Unnamed: 37 Unnamed: 38  \\\n",
       "0         NaN         NaN         NaN         NaN         NaN         NaN   \n",
       "1         NaN         NaN         NaN         NaN         NaN         NaN   \n",
       "2         NaN         NaN         NaN         NaN         NaN         NaN   \n",
       "3         NaN         NaN         NaN         NaN         NaN         NaN   \n",
       "4         NaN         NaN         NaN         NaN         NaN         NaN   \n",
       "\n",
       "  Unnamed: 39  \n",
       "0         NaN  \n",
       "1         NaN  \n",
       "2         NaN  \n",
       "3         NaN  \n",
       "4         NaN  \n",
       "\n",
       "[5 rows x 40 columns]"
      ]
     },
     "execution_count": 5,
     "metadata": {},
     "output_type": "execute_result"
    }
   ],
   "source": [
    "data.head()"
   ]
  },
  {
   "cell_type": "code",
   "execution_count": 6,
   "metadata": {
    "collapsed": false
   },
   "outputs": [
    {
     "data": {
      "text/html": [
       "<div>\n",
       "<table border=\"1\" class=\"dataframe\">\n",
       "  <thead>\n",
       "    <tr style=\"text-align: right;\">\n",
       "      <th></th>\n",
       "      <th>FOLLOWERS</th>\n",
       "      <th>FOLLOWING</th>\n",
       "      <th>LIKES</th>\n",
       "      <th>COMMENTS</th>\n",
       "      <th>Unnamed: 36</th>\n",
       "    </tr>\n",
       "  </thead>\n",
       "  <tbody>\n",
       "    <tr>\n",
       "      <th>count</th>\n",
       "      <td>3.000000e+04</td>\n",
       "      <td>30000.000000</td>\n",
       "      <td>30000.000000</td>\n",
       "      <td>30000.000000</td>\n",
       "      <td>1.0</td>\n",
       "    </tr>\n",
       "    <tr>\n",
       "      <th>mean</th>\n",
       "      <td>4.608031e+04</td>\n",
       "      <td>1531.426900</td>\n",
       "      <td>1861.486567</td>\n",
       "      <td>28.993933</td>\n",
       "      <td>1.0</td>\n",
       "    </tr>\n",
       "    <tr>\n",
       "      <th>std</th>\n",
       "      <td>8.745227e+04</td>\n",
       "      <td>2208.518135</td>\n",
       "      <td>4620.969015</td>\n",
       "      <td>365.380303</td>\n",
       "      <td>NaN</td>\n",
       "    </tr>\n",
       "    <tr>\n",
       "      <th>min</th>\n",
       "      <td>1.182000e+04</td>\n",
       "      <td>0.000000</td>\n",
       "      <td>0.000000</td>\n",
       "      <td>0.000000</td>\n",
       "      <td>1.0</td>\n",
       "    </tr>\n",
       "    <tr>\n",
       "      <th>25%</th>\n",
       "      <td>1.600600e+04</td>\n",
       "      <td>178.000000</td>\n",
       "      <td>301.000000</td>\n",
       "      <td>1.000000</td>\n",
       "      <td>1.0</td>\n",
       "    </tr>\n",
       "    <tr>\n",
       "      <th>50%</th>\n",
       "      <td>2.310000e+04</td>\n",
       "      <td>559.000000</td>\n",
       "      <td>742.000000</td>\n",
       "      <td>4.000000</td>\n",
       "      <td>1.0</td>\n",
       "    </tr>\n",
       "    <tr>\n",
       "      <th>75%</th>\n",
       "      <td>4.467800e+04</td>\n",
       "      <td>1565.000000</td>\n",
       "      <td>1816.000000</td>\n",
       "      <td>12.000000</td>\n",
       "      <td>1.0</td>\n",
       "    </tr>\n",
       "    <tr>\n",
       "      <th>max</th>\n",
       "      <td>1.134619e+06</td>\n",
       "      <td>7918.000000</td>\n",
       "      <td>158338.000000</td>\n",
       "      <td>26011.000000</td>\n",
       "      <td>1.0</td>\n",
       "    </tr>\n",
       "  </tbody>\n",
       "</table>\n",
       "</div>"
      ],
      "text/plain": [
       "          FOLLOWERS     FOLLOWING          LIKES      COMMENTS  Unnamed: 36\n",
       "count  3.000000e+04  30000.000000   30000.000000  30000.000000          1.0\n",
       "mean   4.608031e+04   1531.426900    1861.486567     28.993933          1.0\n",
       "std    8.745227e+04   2208.518135    4620.969015    365.380303          NaN\n",
       "min    1.182000e+04      0.000000       0.000000      0.000000          1.0\n",
       "25%    1.600600e+04    178.000000     301.000000      1.000000          1.0\n",
       "50%    2.310000e+04    559.000000     742.000000      4.000000          1.0\n",
       "75%    4.467800e+04   1565.000000    1816.000000     12.000000          1.0\n",
       "max    1.134619e+06   7918.000000  158338.000000  26011.000000          1.0"
      ]
     },
     "execution_count": 6,
     "metadata": {},
     "output_type": "execute_result"
    }
   ],
   "source": [
    "data.describe()"
   ]
  },
  {
   "cell_type": "code",
   "execution_count": 7,
   "metadata": {
    "collapsed": false
   },
   "outputs": [
    {
     "data": {
      "text/plain": [
       "'The youngest hearts might be the oldest souls.... #lifelessons #andreasgeorgiou✔️ #tb #peru'"
      ]
     },
     "execution_count": 7,
     "metadata": {},
     "output_type": "execute_result"
    }
   ],
   "source": [
    "data['TEXT'][4]"
   ]
  },
  {
   "cell_type": "code",
   "execution_count": 8,
   "metadata": {
    "collapsed": false
   },
   "outputs": [
    {
     "data": {
      "text/plain": [
       "['✔']"
      ]
     },
     "execution_count": 8,
     "metadata": {},
     "output_type": "execute_result"
    }
   ],
   "source": [
    "emoji_regexp = u'[\\U00002600-\\U000026FF]|[\\U00002700-\\U000027BF]|[\\U0001f300-\\U0001f5fF]|[\\U0001f600-\\U0001f64F]|' \\\n",
    "               u'[\\U0001f680-\\U0001f6FF]|[\\U00002A00-\\U00002AFF]|[\\U0001F1E0-\\U0001F1FF]'\n",
    "re.findall(emoji_regexp, data['TEXT'][4], re.UNICODE)"
   ]
  },
  {
   "cell_type": "code",
   "execution_count": 9,
   "metadata": {
    "collapsed": false
   },
   "outputs": [
    {
     "name": "stdout",
     "output_type": "stream",
     "text": [
      "⠀⠀⠀⠀⠀⠀ ⠀⠀⠀⠀⠀⠀⠀⠀⠀⠀MΔΠUҒΔCTURΣR: Glock MΩDΣL: G26 Gen4CΔLIβΣR: 9 mm CΔPΔCITΨ: 10 Rounds βΔRRΣL LΣΠGTH: 3.4 ШΣIGHT: 615 gBy @charlotte_edc ?#guns#glock#arms#tactical#firearms#gunslove#selfdefense#photooftheday#9mm#igmilitia#instagood#photogun#firearmlove#glock26#firearms#gunpics#followme#firempotography#gunsdaly#selfdefense#gunporn#progun#handgun#armaswords#wordsguns\n",
      "⠀⠀⠀⠀⠀⠀ ⠀⠀⠀⠀⠀⠀⠀⠀⠀⠀MΔΠUҒΔCTURΣR: Glock MΩDΣL: G26 Gen4CΔLIβΣR: 9 mm CΔPΔCITΨ: 10 Rounds βΔRRΣL LΣΠGTH: 3.4 ШΣIGHT: 615 gBy @charlotte_edc ?#guns#glock#arms#tactical#firearms#gunslove#selfdefense#photooftheday#9mm#igmilitia#instagood#photogun#firearmlove#glock26#firearms#gunpics#followme#firempotography#gunsdaly#selfdefense#gunporn#progun#handgun#armaswords#wordsguns\n"
     ]
    }
   ],
   "source": [
    "text = data['TEXT'][1706]\n",
    "print(text) # with emoji\n",
    "\n",
    "emoji_pattern = re.compile(\"[\"\n",
    "        u\"\\U0001F600-\\U0001F64F\"  # emoticons\n",
    "        u\"\\U0001F300-\\U0001F5FF\"  # symbols & pictographs\n",
    "        u\"\\U0001F680-\\U0001F6FF\"  # transport & map symbols\n",
    "        u\"\\U0001F1E0-\\U0001F1FF\"  # flags (iOS)\n",
    "        u\"\\U00002700-\\U000027BF\"\n",
    "        u\"\\U00002A00-\\U00002AFF\"\n",
    "        u\"\\U00002600-\\U000026FF\"\n",
    "                           \"]+\", flags=re.UNICODE)\n",
    "print(emoji_pattern.sub(r'', text)) # no emoji"
   ]
  },
  {
   "cell_type": "markdown",
   "metadata": {},
   "source": [
    "# Post Description"
   ]
  },
  {
   "cell_type": "code",
   "execution_count": 10,
   "metadata": {
    "collapsed": false,
    "scrolled": false
   },
   "outputs": [
    {
     "data": {
      "text/plain": [
       "'That eyes which never give up you, is like a dream which cannot be real and later it comes true! ???@burakozcivit #Kemalsoydere #Oldphoto #karasevda'"
      ]
     },
     "execution_count": 10,
     "metadata": {},
     "output_type": "execute_result"
    }
   ],
   "source": [
    "data['TEXT'][6666]"
   ]
  },
  {
   "cell_type": "code",
   "execution_count": 11,
   "metadata": {
    "collapsed": true
   },
   "outputs": [],
   "source": [
    "letters_only = re.sub(\"[^a-zA-Z]\",           # The pattern to search for\n",
    "                      \" \",                   # The pattern to replace it with\n",
    "                      data['TEXT'][6666]) "
   ]
  },
  {
   "cell_type": "code",
   "execution_count": 12,
   "metadata": {
    "collapsed": false
   },
   "outputs": [
    {
     "data": {
      "text/plain": [
       "'That eyes which never give up you  is like a dream which cannot be real and later it comes true      burakozcivit  Kemalsoydere  Oldphoto  karasevda'"
      ]
     },
     "execution_count": 12,
     "metadata": {},
     "output_type": "execute_result"
    }
   ],
   "source": [
    "letters_only"
   ]
  },
  {
   "cell_type": "code",
   "execution_count": 13,
   "metadata": {
    "collapsed": false
   },
   "outputs": [
    {
     "data": {
      "text/plain": [
       "['that',\n",
       " 'eyes',\n",
       " 'which',\n",
       " 'never',\n",
       " 'give',\n",
       " 'up',\n",
       " 'you',\n",
       " 'is',\n",
       " 'like',\n",
       " 'a',\n",
       " 'dream',\n",
       " 'which',\n",
       " 'cannot',\n",
       " 'be',\n",
       " 'real',\n",
       " 'and',\n",
       " 'later',\n",
       " 'it',\n",
       " 'comes',\n",
       " 'true',\n",
       " 'burakozcivit',\n",
       " 'kemalsoydere',\n",
       " 'oldphoto',\n",
       " 'karasevda']"
      ]
     },
     "execution_count": 13,
     "metadata": {},
     "output_type": "execute_result"
    }
   ],
   "source": [
    "lower_case = letters_only.lower()        # Convert to lower case\n",
    "words = lower_case.split()               # Split into words\n",
    "words"
   ]
  },
  {
   "cell_type": "code",
   "execution_count": 20,
   "metadata": {
    "collapsed": false
   },
   "outputs": [
    {
     "data": {
      "text/plain": [
       "['eyes',\n",
       " 'never',\n",
       " 'give',\n",
       " 'like',\n",
       " 'dream',\n",
       " 'cannot',\n",
       " 'real',\n",
       " 'later',\n",
       " 'comes',\n",
       " 'true',\n",
       " 'burakozcivit',\n",
       " 'kemalsoydere',\n",
       " 'oldphoto',\n",
       " 'karasevda']"
      ]
     },
     "execution_count": 20,
     "metadata": {},
     "output_type": "execute_result"
    }
   ],
   "source": [
    "from nltk.corpus import stopwords\n",
    "words = [w for w in words if not w in stopwords.words(\"english\")]\n",
    "words"
   ]
  },
  {
   "cell_type": "code",
   "execution_count": 21,
   "metadata": {
    "collapsed": false
   },
   "outputs": [
    {
     "data": {
      "text/plain": [
       "'eyes never give like dream cannot real later comes true burakozcivit kemalsoydere oldphoto karasevda'"
      ]
     },
     "execution_count": 21,
     "metadata": {},
     "output_type": "execute_result"
    }
   ],
   "source": [
    "\" \".join(words)"
   ]
  },
  {
   "cell_type": "code",
   "execution_count": 22,
   "metadata": {
    "collapsed": true
   },
   "outputs": [],
   "source": [
    "def cleanup(sentence):\n",
    "    #letters_only = re.sub(\"[^a-zA-Z]\", \" \", sentence.split(', ')[0])\n",
    "    #emojis = re.findall(emoji_regexp, sentence.split(', ')[0], re.UNICODE)\n",
    "    try:\n",
    "        letters_only = re.sub(\"[^a-zA-Z]\", \" \", sentence)\n",
    "        emojis = re.findall(emoji_regexp, sentence, re.UNICODE)\n",
    "    except:\n",
    "        letters_only = ''\n",
    "        emojis = []\n",
    "    words = letters_only.lower().split()        \n",
    "    words = [w for w in words if not w in stopwords.words(\"english\")]\n",
    "    words = [w for w in words if len(w) > 1]\n",
    "    return (\" \".join(words)), (\" \".join(emojis))"
   ]
  },
  {
   "cell_type": "code",
   "execution_count": 23,
   "metadata": {
    "collapsed": false
   },
   "outputs": [],
   "source": [
    "sentence, emojis = cleanup(data['TEXT'][4])"
   ]
  },
  {
   "cell_type": "code",
   "execution_count": 24,
   "metadata": {
    "collapsed": false
   },
   "outputs": [
    {
     "data": {
      "text/plain": [
       "'youngest hearts might oldest souls lifelessons andreasgeorgiou tb peru'"
      ]
     },
     "execution_count": 24,
     "metadata": {},
     "output_type": "execute_result"
    }
   ],
   "source": [
    "sentence"
   ]
  },
  {
   "cell_type": "code",
   "execution_count": 25,
   "metadata": {
    "collapsed": false
   },
   "outputs": [
    {
     "data": {
      "text/plain": [
       "'✔'"
      ]
     },
     "execution_count": 25,
     "metadata": {},
     "output_type": "execute_result"
    }
   ],
   "source": [
    "emojis"
   ]
  },
  {
   "cell_type": "code",
   "execution_count": 26,
   "metadata": {
    "collapsed": false
   },
   "outputs": [
    {
     "data": {
      "text/plain": [
       "30000"
      ]
     },
     "execution_count": 26,
     "metadata": {},
     "output_type": "execute_result"
    }
   ],
   "source": [
    "data['TEXT'].size"
   ]
  },
  {
   "cell_type": "code",
   "execution_count": 27,
   "metadata": {
    "collapsed": false
   },
   "outputs": [
    {
     "name": "stdout",
     "output_type": "stream",
     "text": [
      "3% done\n",
      "7% done\n",
      "10% done\n",
      "13% done\n",
      "17% done\n",
      "20% done\n",
      "23% done\n",
      "27% done\n",
      "30% done\n",
      "33% done\n",
      "37% done\n",
      "40% done\n",
      "43% done\n",
      "47% done\n",
      "50% done\n",
      "53% done\n",
      "57% done\n",
      "60% done\n",
      "63% done\n",
      "67% done\n",
      "70% done\n",
      "73% done\n",
      "77% done\n",
      "80% done\n",
      "83% done\n",
      "87% done\n",
      "90% done\n",
      "93% done\n",
      "97% done\n",
      "100% done\n"
     ]
    }
   ],
   "source": [
    "clean = []\n",
    "clean_emojis = []\n",
    "for i in range( 0, data['TEXT'].size ):\n",
    "    if( (i+1)%1000 == 0 ):\n",
    "        print(str(round(i/30000*100))+\"% done\")\n",
    "    x,y = cleanup(data['TEXT'][i])\n",
    "    clean.append(x)\n",
    "    clean_emojis.append(y)"
   ]
  },
  {
   "cell_type": "code",
   "execution_count": 91,
   "metadata": {
    "collapsed": false,
    "scrolled": true
   },
   "outputs": [
    {
     "data": {
      "text/plain": [
       "30000"
      ]
     },
     "execution_count": 91,
     "metadata": {},
     "output_type": "execute_result"
    }
   ],
   "source": [
    "len(clean_emojis)"
   ]
  },
  {
   "cell_type": "code",
   "execution_count": 292,
   "metadata": {
    "collapsed": false
   },
   "outputs": [],
   "source": [
    "from sklearn.feature_extraction.text import CountVectorizer, TfidfTransformer\n",
    " \n",
    "clean_vectorizer = CountVectorizer(analyzer = \"word\", tokenizer = None, preprocessor = None, stop_words = None, max_features = 675) \n",
    "\n",
    "# fit_transform() does two functions: First, it fits the model\n",
    "# and learns the vocabulary; second, it transforms our training data\n",
    "# into feature vectors. The input to fit_transform should be a list of \n",
    "# strings.\n",
    "clean_features = clean_vectorizer.fit_transform(clean)\n",
    "\n",
    "#tfidf_transformer = TfidfTransformer()\n",
    "#clean_features = tfidf_transformer.fit_transform(clean_features)\n",
    "\n",
    "# Numpy arrays are easy to work with, so convert the result to an \n",
    "# array\n",
    "clean_features = clean_features.toarray()"
   ]
  },
  {
   "cell_type": "code",
   "execution_count": 293,
   "metadata": {
    "collapsed": false
   },
   "outputs": [
    {
     "data": {
      "text/plain": [
       "(30000, 675)"
      ]
     },
     "execution_count": 293,
     "metadata": {},
     "output_type": "execute_result"
    }
   ],
   "source": [
    "clean_features.shape"
   ]
  },
  {
   "cell_type": "code",
   "execution_count": 294,
   "metadata": {
    "collapsed": false
   },
   "outputs": [
    {
     "name": "stdout",
     "output_type": "stream",
     "text": [
      "['actor', 'actress', 'admin', 'adorable', 'aka', 'akahistory', 'akahistoryisblackhistory', 'akalegacy', 'akas', 'akatsuki', 'alpha', 'alphakappaalpha', 'alphaphialpha', 'alphatv', 'also', 'always', 'amazing', 'amsterdam', 'angel', 'anime', 'animeboy', 'animecosplay', 'animee', 'animefan', 'animegirl', 'animekawaii', 'animelife', 'animeworld', 'animikkelart', 'ant', 'aperolspritz', 'aphia', 'apisteuta', 'april', 'argiros', 'around', 'art', 'artist', 'arvenberen', 'athens', 'athensvoice', 'available', 'awesome', 'baby', 'back', 'backstage', 'bad', 'bag', 'bansko', 'basilisavramidis', 'beach', 'beautiful', 'beauty', 'best', 'bestoftheday', 'better', 'big', 'bikini', 'bio', 'birthday', 'black', 'blackandwhite', 'blessed', 'blog', 'blogbossbabe', 'blogger', 'blue', 'bnw', 'body', 'boruto', 'borutothemovie', 'boutique', 'brazil', 'breakfast', 'brigitte', 'brigitteboutique', 'brunette', 'burak', 'burakozcivit', 'call', 'captures', 'chalkidiki', 'chance', 'chatterbusy', 'check', 'chocolate', 'city', 'clothes', 'coffee', 'collection', 'color', 'colors', 'com', 'come', 'coming', 'comment', 'company', 'congratulations', 'cool', 'cosplay', 'creative', 'credit', 'credits', 'crescent', 'crete', 'crislia', 'crown', 'cute', 'cyclades', 'cyprus', 'da', 'daily', 'dailybadass', 'dance', 'day', 'days', 'de', 'decoro', 'deltasigmatheta', 'denim', 'denizsoydere', 'design', 'details', 'dimitris', 'direct', 'dog', 'donttreadonme', 'dress', 'drops', 'dst', 'earrings', 'easter', 'ellada', 'en', 'enjoy', 'es', 'et', 'europe', 'evahaka', 'ever', 'every', 'everybladeofgrass', 'everyone', 'everything', 'eyes', 'fab', 'fabulous', 'face', 'facebook', 'family', 'famu', 'fanart', 'fashion', 'fashionblogger', 'fashiondiaries', 'fashionexpert', 'fashiongram', 'fashionista', 'fashionpost', 'fashionstyle', 'fav', 'favorite', 'featured', 'feel', 'final', 'find', 'firearmlove', 'firearms', 'first', 'fitness', 'fitnessmodel', 'floral', 'flowers', 'focus', 'follow', 'followme', 'followmeplease', 'food', 'foodporn', 'forget', 'france', 'free', 'freedom', 'fresh', 'friday', 'friend', 'friends', 'fun', 'funny', 'gate', 'get', 'gf', 'giannis', 'girl', 'girls', 'give', 'giveaway', 'gl', 'glock', 'go', 'goals', 'godly', 'gold', 'golden', 'goo', 'good', 'goodmorning', 'goodnight', 'got', 'gr', 'great', 'grecia', 'greece', 'greecelover', 'greecestagram', 'greecetravelgr', 'greek', 'greekblogger', 'greekdesigners', 'greekfashion', 'greekgirl', 'greekislands', 'greeklife', 'greekpost', 'greekposts', 'greekquote', 'greekquotes', 'greekquotess', 'greeks', 'green', 'group', 'gunfanatic', 'gunfanatics', 'gunfighter', 'gunfreaks', 'gungame', 'gunlife', 'gunlove', 'gunlover', 'gunnut', 'gunporn', 'guns', 'gunsdaily', 'hair', 'hairstyle', 'hall', 'handmade', 'happiness', 'happy', 'happyeaster', 'hazalfilizkucukkose', 'heart', 'heels', 'hellas', 'hellenic', 'hello', 'high', 'hilalsaral', 'hinata', 'hokage', 'holidays', 'home', 'hope', 'hot', 'http', 'https', 'ig', 'igers', 'igersgreece', 'ilovegreece', 'inbox', 'influencer', 'info', 'inspiration', 'insta', 'instacool', 'instadaily', 'instafashion', 'instafood', 'instagood', 'instagram', 'instagreece', 'instalifo', 'instalike', 'instamood', 'instaphoto', 'instapic', 'instastyle', 'iotaphitheta', 'iraklispantsios', 'island', 'islands', 'itachi', 'italia', 'italy', 'ivit', 'ix', 'japan', 'jeans', 'jewellery', 'jewelry', 'kaanurgancioglu', 'kappaalphapsi', 'kapsi', 'karasevda', 'karasevdadizi', 'kawaii', 'kawaiianime', 'kawaiianimegirl', 'kawaiidesu', 'kawaiigirl', 'kawaiilover', 'kawaiiness', 'keep', 'kemal', 'kemalsoydere', 'kings', 'know', 'kushina', 'la', 'lace', 'last', 'le', 'let', 'life', 'lifestyle', 'lifestyleblogger', 'lifo', 'light', 'like', 'likeforlike', 'likes', 'link', 'linkinbio', 'little', 'live', 'loading', 'location', 'logia', 'london', 'long', 'look', 'lookbook', 'lookoftheday', 'love', 'lovely', 'lovers', 'loves', 'luigi', 'luxury', 'luxurycollection', 'made', 'madwalk', 'make', 'makeup', 'man', 'manga', 'mangacap', 'mangagirl', 'marmaladyclothingbar', 'matis', 'may', 'med', 'melisapamuk', 'memories', 'men', 'mensfashion', 'message', 'minakushi', 'minato', 'minimal', 'mm', 'mod', 'model', 'moe', 'moment', 'moments', 'mood', 'morbi', 'morning', 'mprousko', 'much', 'music', 'must', 'myconos', 'mykonos', 'mykonosisland', 'mykonoslife', 'mykonostown', 'na', 'naruhina', 'naruto', 'narutocosplay', 'narutogaiden', 'narutomovie', 'narutoshippuden', 'narutothelast', 'narutouzumaki', 'narvu', 'nature', 'ndamendment', 'need', 'neko', 'nekogirl', 'nesbur', 'neslihan', 'neslihanatagul', 'neslihantagul', 'netherlands', 'never', 'new', 'newcollection', 'next', 'nice', 'night', 'nightout', 'nihan', 'nihansezin', 'nihkem', 'nikiti', 'nofilter', 'nude', 'ocean', 'official', 'old', 'olympiacos', 'omegapsiphi', 'one', 'online', 'onlineshopping', 'ooniiichan', 'ootd', 'ootdshare', 'open', 'order', 'orders', 'otaku', 'otakugirl', 'otakulover', 'otakus', 'outfit', 'outfitoftheday', 'owner', 'page', 'panathinaikos', 'paris', 'part', 'party', 'passion', 'people', 'perfect', 'phibetasigma', 'photo', 'photographer', 'photography', 'photooftheday', 'photos', 'photoshoot', 'photoshooting', 'pic', 'picoftheday', 'pictures', 'pink', 'pixiv', 'place', 'please', 'polichrono', 'portrait', 'post', 'potd', 'pour', 'pretty', 'probateseason', 'project', 'que', 'queen', 'quetalviajar', 'quote', 'quoteoftheday', 'quotes', 'quotestagram', 'rangerup', 'ready', 'real', 'really', 'recipe', 'red', 'regrann', 'relax', 'renus', 'repost', 'repostapp', 'repostedby', 'retro', 'right', 'rio', 'riodejaneiro', 'rs', 'saino', 'saintgeorgebeach', 'sakura', 'sandals', 'santorini', 'sasuke', 'sasukecosplays', 'sasusaku', 'saturday', 'say', 'se', 'sea', 'season', 'see', 'sekoia', 'selfie', 'set', 'sexy', 'sezon', 'sgrho', 'share', 'shikatema', 'shipping', 'shirt', 'shoes', 'shooting', 'shop', 'shopping', 'shot', 'shots', 'shotz', 'shoutout', 'show', 'sickguns', 'sickgunsdaily', 'sigmagammarho', 'sisterhood', 'sisters', 'site', 'skg', 'skincare', 'sky', 'smile', 'soon', 'soul', 'sparkle', 'special', 'spetsathlon', 'spetses', 'spitispitaki', 'sports', 'spring', 'ss', 'st', 'staracademygr', 'start', 'stay', 'staytuned', 'still', 'stixakia', 'stop', 'store', 'street', 'streetphotography', 'streetstyle', 'style', 'styleblogger', 'stylegram', 'styling', 'stylish', 'subtitles', 'summer', 'sun', 'sunday', 'sunglasses', 'sunny', 'sunnyday', 'sunset', 'super', 'survivor', 'sweet', 'swimwear', 'switzerland', 'tactical', 'tacticalasfuck', 'tacticallife', 'tacticalminded', 'tacticalporn', 'tacticalshit', 'tag', 'tags', 'tagsforlikes', 'take', 'tb', 'tbt', 'tdot', 'team', 'tflers', 'th', 'thank', 'thanks', 'thepewpewlife', 'thessaloniki', 'thing', 'things', 'think', 'thinkhbcu', 'thisisarepost', 'time', 'today', 'together', 'tonight', 'top', 'toronto', 'total', 'training', 'travel', 'travelgram', 'travelling', 'triggernometry', 'trip', 'trollokratoras', 'truestory', 'tuned', 'turkey', 'turkish', 'turn', 'tv', 'twinsfashion', 'twitter', 'two', 'uchihas', 'unique', 'united', 'urban', 'us', 'vacation', 'via', 'vibes', 'video', 'videotv', 'view', 'village', 'vintage', 'visit', 'visitgreece', 'vmc', 'voyjewellery', 'vsco', 'vscocam', 'want', 'watch', 'way', 'wear', 'wearing', 'week', 'weekend', 'well', 'welovegreece', 'white', 'wiwt', 'wolford', 'woman', 'women', 'wonderful', 'words', 'work', 'world', 'would', 'wu', 'www', 'yeni', 'yfsf', 'youtube', 'zcivit', 'zetaphibeta', 'zphib']\n"
     ]
    }
   ],
   "source": [
    "vocab = clean_vectorizer.get_feature_names()\n",
    "print(vocab)"
   ]
  },
  {
   "cell_type": "code",
   "execution_count": 295,
   "metadata": {
    "collapsed": false
   },
   "outputs": [
    {
     "name": "stdout",
     "output_type": "stream",
     "text": [
      "['actor', 'actress', 'admin', 'adorable', 'akahistory', 'akahistoryisblackhistory', 'akalegacy', 'akas', 'akatsuki', 'alpha', 'alphakappaalpha', 'alphaphialpha', 'alphatv', 'also', 'always', 'amazing', 'amsterdam', 'angel', 'anime', 'animeboy', 'animecosplay', 'animee', 'animefan', 'animegirl', 'animekawaii', 'animelife', 'animeworld', 'animikkelart', 'aperolspritz', 'aphia', 'apisteuta', 'april', 'argiros', 'around', 'artist', 'arvenberen', 'athens', 'athensvoice', 'available', 'awesome', 'baby', 'back', 'backstage', 'bansko', 'basilisavramidis', 'beach', 'beautiful', 'beauty', 'best', 'bestoftheday', 'better', 'bikini', 'birthday', 'black', 'blackandwhite', 'blessed', 'blog', 'blogbossbabe', 'blogger', 'blue', 'body', 'boruto', 'borutothemovie', 'boutique', 'brazil', 'breakfast', 'brigitte', 'brigitteboutique', 'brunette', 'burak', 'burakozcivit', 'call', 'captures', 'chalkidiki', 'chance', 'chatterbusy', 'check', 'chocolate', 'city', 'clothes', 'coffee', 'collection', 'color', 'colors', 'come', 'coming', 'comment', 'company', 'congratulations', 'cool', 'cosplay', 'creative', 'credit', 'credits', 'crescent', 'crete', 'crislia', 'crown', 'cute', 'cyclades', 'cyprus', 'daily', 'dailybadass', 'dance', 'days', 'decoro', 'deltasigmatheta', 'denim', 'denizsoydere', 'design', 'details', 'dimitris', 'direct', 'donttreadonme', 'dress', 'drops', 'earrings', 'easter', 'ellada', 'enjoy', 'europe', 'evahaka', 'ever', 'every', 'everybladeofgrass', 'everyone', 'everything', 'eyes', 'fabulous', 'face', 'facebook', 'family', 'famu', 'fanart', 'fashion', 'fashionblogger', 'fashiondiaries', 'fashionexpert', 'fashiongram', 'fashionista', 'fashionpost', 'fashionstyle', 'favorite', 'featured', 'feel', 'final', 'find', 'firearmlove', 'firearms', 'first', 'fitness', 'fitnessmodel', 'floral', 'flowers', 'focus', 'follow', 'followme', 'followmeplease', 'food', 'foodporn', 'forget', 'france', 'free', 'freedom', 'fresh', 'friday', 'friend', 'friends', 'funny', 'gate', 'giannis', 'girl', 'girls', 'give', 'giveaway', 'glock', 'goals', 'godly', 'gold', 'golden', 'good', 'goodmorning', 'goodnight', 'great', 'grecia', 'greece', 'greecelover', 'greecestagram', 'greecetravelgr', 'greek', 'greekblogger', 'greekdesigners', 'greekfashion', 'greekgirl', 'greekislands', 'greeklife', 'greekpost', 'greekposts', 'greekquote', 'greekquotes', 'greekquotess', 'greeks', 'green', 'group', 'gunfanatic', 'gunfanatics', 'gunfighter', 'gunfreaks', 'gungame', 'gunlife', 'gunlove', 'gunlover', 'gunnut', 'gunporn', 'guns', 'gunsdaily', 'hair', 'hairstyle', 'hall', 'handmade', 'happiness', 'happy', 'happyeaster', 'hazalfilizkucukkose', 'heart', 'heels', 'hellas', 'hellenic', 'hello', 'high', 'hilalsaral', 'hinata', 'hokage', 'holidays', 'home', 'hope', 'http', 'https', 'igers', 'igersgreece', 'ilovegreece', 'inbox', 'influencer', 'info', 'inspiration', 'insta', 'instacool', 'instadaily', 'instafashion', 'instafood', 'instagood', 'instagram', 'instagreece', 'instalifo', 'instalike', 'instamood', 'instaphoto', 'instapic', 'instastyle', 'iotaphitheta', 'iraklispantsios', 'island', 'islands', 'itachi', 'italia', 'italy', 'ivit', 'japan', 'jeans', 'jewellery', 'jewelry', 'kaanurgancioglu', 'kappaalphapsi', 'kapsi', 'karasevda', 'karasevdadizi', 'kawaii', 'kawaiianime', 'kawaiianimegirl', 'kawaiidesu', 'kawaiigirl', 'kawaiilover', 'kawaiiness', 'keep', 'kemal', 'kemalsoydere', 'kings', 'know', 'kushina', 'lace', 'last', 'life', 'lifestyle', 'lifestyleblogger', 'lifo', 'light', 'like', 'likeforlike', 'likes', 'link', 'linkinbio', 'little', 'live', 'loading', 'location', 'logia', 'london', 'long', 'look', 'lookbook', 'lookoftheday', 'love', 'lovely', 'lovers', 'loves', 'luigi', 'luxury', 'luxurycollection', 'made', 'madwalk', 'make', 'makeup', 'manga', 'mangacap', 'mangagirl', 'marmaladyclothingbar', 'matis', 'melisapamuk', 'memories', 'mensfashion', 'message', 'minakushi', 'minato', 'minimal', 'model', 'moment', 'moments', 'mood', 'morbi', 'morning', 'mprousko', 'much', 'music', 'must', 'myconos', 'mykonos', 'mykonosisland', 'mykonoslife', 'mykonostown', 'naruhina', 'naruto', 'narutocosplay', 'narutogaiden', 'narutomovie', 'narutoshippuden', 'narutothelast', 'narutouzumaki', 'narvu', 'nature', 'ndamendment', 'need', 'neko', 'nekogirl', 'nesbur', 'neslihan', 'neslihanatagul', 'neslihantagul', 'netherlands', 'never', 'newcollection', 'next', 'nice', 'night', 'nightout', 'nihan', 'nihansezin', 'nihkem', 'nikiti', 'nofilter', 'nude', 'ocean', 'official', 'olympiacos', 'omegapsiphi', 'online', 'onlineshopping', 'ooniiichan', 'ootd', 'ootdshare', 'open', 'order', 'orders', 'otaku', 'otakugirl', 'otakulover', 'otakus', 'outfit', 'outfitoftheday', 'owner', 'page', 'panathinaikos', 'paris', 'part', 'party', 'passion', 'people', 'perfect', 'phibetasigma', 'photo', 'photographer', 'photography', 'photooftheday', 'photos', 'photoshoot', 'photoshooting', 'picoftheday', 'pictures', 'pink', 'pixiv', 'place', 'please', 'polichrono', 'portrait', 'post', 'potd', 'pour', 'pretty', 'probateseason', 'project', 'queen', 'quetalviajar', 'quote', 'quoteoftheday', 'quotes', 'quotestagram', 'rangerup', 'ready', 'real', 'really', 'recipe', 'regrann', 'relax', 'renus', 'repost', 'repostapp', 'repostedby', 'retro', 'right', 'riodejaneiro', 'saino', 'saintgeorgebeach', 'sakura', 'sandals', 'santorini', 'sasuke', 'sasukecosplays', 'sasusaku', 'saturday', 'season', 'sekoia', 'selfie', 'sexy', 'sezon', 'sgrho', 'share', 'shikatema', 'shipping', 'shirt', 'shoes', 'shooting', 'shop', 'shopping', 'shot', 'shots', 'shotz', 'shoutout', 'show', 'sickguns', 'sickgunsdaily', 'sigmagammarho', 'sisterhood', 'sisters', 'site', 'skincare', 'smile', 'soon', 'soul', 'sparkle', 'special', 'spetsathlon', 'spetses', 'spitispitaki', 'sports', 'spring', 'staracademygr', 'start', 'stay', 'staytuned', 'still', 'stixakia', 'stop', 'store', 'street', 'streetphotography', 'streetstyle', 'style', 'styleblogger', 'stylegram', 'styling', 'stylish', 'subtitles', 'summer', 'sunday', 'sunglasses', 'sunny', 'sunnyday', 'sunset', 'super', 'survivor', 'sweet', 'swimwear', 'switzerland', 'tactical', 'tacticalasfuck', 'tacticallife', 'tacticalminded', 'tacticalporn', 'tacticalshit', 'tags', 'tagsforlikes', 'take', 'tdot', 'team', 'tflers', 'thank', 'thanks', 'thepewpewlife', 'thessaloniki', 'thing', 'things', 'think', 'thinkhbcu', 'thisisarepost', 'time', 'today', 'together', 'tonight', 'toronto', 'total', 'training', 'travel', 'travelgram', 'travelling', 'triggernometry', 'trip', 'trollokratoras', 'truestory', 'tuned', 'turkey', 'turkish', 'turn', 'twinsfashion', 'twitter', 'uchihas', 'unique', 'united', 'urban', 'vacation', 'vibes', 'video', 'videotv', 'view', 'village', 'vintage', 'visit', 'visitgreece', 'voyjewellery', 'vsco', 'vscocam', 'want', 'watch', 'wear', 'wearing', 'week', 'weekend', 'well', 'welovegreece', 'white', 'wiwt', 'wolford', 'woman', 'women', 'wonderful', 'words', 'work', 'world', 'would', 'yeni', 'yfsf', 'youtube', 'zcivit', 'zetaphibeta', 'zphib']\n"
     ]
    }
   ],
   "source": [
    "new_vocab = []\n",
    "for word in vocab:\n",
    "    if len(word)>3:\n",
    "        new_vocab.append(word)\n",
    "#print (' '.join(new_vocab))\n",
    "print (new_vocab)"
   ]
  },
  {
   "cell_type": "code",
   "execution_count": 296,
   "metadata": {
    "collapsed": false
   },
   "outputs": [
    {
     "data": {
      "text/html": [
       "<div>\n",
       "<table border=\"1\" class=\"dataframe\">\n",
       "  <thead>\n",
       "    <tr style=\"text-align: right;\">\n",
       "      <th></th>\n",
       "      <th>actor</th>\n",
       "      <th>actress</th>\n",
       "      <th>admin</th>\n",
       "      <th>adorable</th>\n",
       "      <th>aka</th>\n",
       "      <th>akahistory</th>\n",
       "      <th>akahistoryisblackhistory</th>\n",
       "      <th>akalegacy</th>\n",
       "      <th>akas</th>\n",
       "      <th>akatsuki</th>\n",
       "      <th>...</th>\n",
       "      <th>world</th>\n",
       "      <th>would</th>\n",
       "      <th>wu</th>\n",
       "      <th>www</th>\n",
       "      <th>yeni</th>\n",
       "      <th>yfsf</th>\n",
       "      <th>youtube</th>\n",
       "      <th>zcivit</th>\n",
       "      <th>zetaphibeta</th>\n",
       "      <th>zphib</th>\n",
       "    </tr>\n",
       "  </thead>\n",
       "  <tbody>\n",
       "    <tr>\n",
       "      <th>0</th>\n",
       "      <td>0</td>\n",
       "      <td>0</td>\n",
       "      <td>0</td>\n",
       "      <td>0</td>\n",
       "      <td>0</td>\n",
       "      <td>0</td>\n",
       "      <td>0</td>\n",
       "      <td>0</td>\n",
       "      <td>0</td>\n",
       "      <td>0</td>\n",
       "      <td>...</td>\n",
       "      <td>0</td>\n",
       "      <td>0</td>\n",
       "      <td>0</td>\n",
       "      <td>0</td>\n",
       "      <td>0</td>\n",
       "      <td>0</td>\n",
       "      <td>0</td>\n",
       "      <td>0</td>\n",
       "      <td>0</td>\n",
       "      <td>0</td>\n",
       "    </tr>\n",
       "    <tr>\n",
       "      <th>1</th>\n",
       "      <td>0</td>\n",
       "      <td>0</td>\n",
       "      <td>0</td>\n",
       "      <td>0</td>\n",
       "      <td>0</td>\n",
       "      <td>0</td>\n",
       "      <td>0</td>\n",
       "      <td>0</td>\n",
       "      <td>0</td>\n",
       "      <td>0</td>\n",
       "      <td>...</td>\n",
       "      <td>0</td>\n",
       "      <td>0</td>\n",
       "      <td>0</td>\n",
       "      <td>0</td>\n",
       "      <td>0</td>\n",
       "      <td>0</td>\n",
       "      <td>0</td>\n",
       "      <td>0</td>\n",
       "      <td>0</td>\n",
       "      <td>0</td>\n",
       "    </tr>\n",
       "    <tr>\n",
       "      <th>2</th>\n",
       "      <td>0</td>\n",
       "      <td>0</td>\n",
       "      <td>0</td>\n",
       "      <td>0</td>\n",
       "      <td>0</td>\n",
       "      <td>0</td>\n",
       "      <td>0</td>\n",
       "      <td>0</td>\n",
       "      <td>0</td>\n",
       "      <td>0</td>\n",
       "      <td>...</td>\n",
       "      <td>0</td>\n",
       "      <td>0</td>\n",
       "      <td>0</td>\n",
       "      <td>0</td>\n",
       "      <td>0</td>\n",
       "      <td>0</td>\n",
       "      <td>0</td>\n",
       "      <td>0</td>\n",
       "      <td>0</td>\n",
       "      <td>0</td>\n",
       "    </tr>\n",
       "    <tr>\n",
       "      <th>3</th>\n",
       "      <td>0</td>\n",
       "      <td>0</td>\n",
       "      <td>0</td>\n",
       "      <td>0</td>\n",
       "      <td>0</td>\n",
       "      <td>0</td>\n",
       "      <td>0</td>\n",
       "      <td>0</td>\n",
       "      <td>0</td>\n",
       "      <td>0</td>\n",
       "      <td>...</td>\n",
       "      <td>0</td>\n",
       "      <td>0</td>\n",
       "      <td>0</td>\n",
       "      <td>0</td>\n",
       "      <td>0</td>\n",
       "      <td>0</td>\n",
       "      <td>0</td>\n",
       "      <td>0</td>\n",
       "      <td>0</td>\n",
       "      <td>0</td>\n",
       "    </tr>\n",
       "    <tr>\n",
       "      <th>4</th>\n",
       "      <td>0</td>\n",
       "      <td>0</td>\n",
       "      <td>0</td>\n",
       "      <td>0</td>\n",
       "      <td>0</td>\n",
       "      <td>0</td>\n",
       "      <td>0</td>\n",
       "      <td>0</td>\n",
       "      <td>0</td>\n",
       "      <td>0</td>\n",
       "      <td>...</td>\n",
       "      <td>0</td>\n",
       "      <td>0</td>\n",
       "      <td>0</td>\n",
       "      <td>0</td>\n",
       "      <td>0</td>\n",
       "      <td>0</td>\n",
       "      <td>0</td>\n",
       "      <td>0</td>\n",
       "      <td>0</td>\n",
       "      <td>0</td>\n",
       "    </tr>\n",
       "  </tbody>\n",
       "</table>\n",
       "<p>5 rows × 675 columns</p>\n",
       "</div>"
      ],
      "text/plain": [
       "   actor  actress  admin  adorable  aka  akahistory  akahistoryisblackhistory  \\\n",
       "0      0        0      0         0    0           0                         0   \n",
       "1      0        0      0         0    0           0                         0   \n",
       "2      0        0      0         0    0           0                         0   \n",
       "3      0        0      0         0    0           0                         0   \n",
       "4      0        0      0         0    0           0                         0   \n",
       "\n",
       "   akalegacy  akas  akatsuki  ...    world  would  wu  www  yeni  yfsf  \\\n",
       "0          0     0         0  ...        0      0   0    0     0     0   \n",
       "1          0     0         0  ...        0      0   0    0     0     0   \n",
       "2          0     0         0  ...        0      0   0    0     0     0   \n",
       "3          0     0         0  ...        0      0   0    0     0     0   \n",
       "4          0     0         0  ...        0      0   0    0     0     0   \n",
       "\n",
       "   youtube  zcivit  zetaphibeta  zphib  \n",
       "0        0       0            0      0  \n",
       "1        0       0            0      0  \n",
       "2        0       0            0      0  \n",
       "3        0       0            0      0  \n",
       "4        0       0            0      0  \n",
       "\n",
       "[5 rows x 675 columns]"
      ]
     },
     "execution_count": 296,
     "metadata": {},
     "output_type": "execute_result"
    }
   ],
   "source": [
    "clean_features = pd.DataFrame(data=clean_features, columns=vocab)\n",
    "clean_features.head()"
   ]
  },
  {
   "cell_type": "code",
   "execution_count": 215,
   "metadata": {
    "collapsed": false
   },
   "outputs": [
    {
     "data": {
      "text/html": [
       "<div>\n",
       "<table border=\"1\" class=\"dataframe\">\n",
       "  <thead>\n",
       "    <tr style=\"text-align: right;\">\n",
       "      <th></th>\n",
       "      <th>actor</th>\n",
       "      <th>actress</th>\n",
       "      <th>admin</th>\n",
       "      <th>adorable</th>\n",
       "      <th>akahistory</th>\n",
       "      <th>akahistoryisblackhistory</th>\n",
       "      <th>akalegacy</th>\n",
       "      <th>akas</th>\n",
       "      <th>akasthroughtheyears</th>\n",
       "      <th>akatsuki</th>\n",
       "      <th>...</th>\n",
       "      <th>world</th>\n",
       "      <th>would</th>\n",
       "      <th>xfactorgr</th>\n",
       "      <th>year</th>\n",
       "      <th>yeni</th>\n",
       "      <th>yfsf</th>\n",
       "      <th>youtube</th>\n",
       "      <th>zcivit</th>\n",
       "      <th>zetaphibeta</th>\n",
       "      <th>zphib</th>\n",
       "    </tr>\n",
       "  </thead>\n",
       "  <tbody>\n",
       "    <tr>\n",
       "      <th>0</th>\n",
       "      <td>0</td>\n",
       "      <td>0</td>\n",
       "      <td>0</td>\n",
       "      <td>0</td>\n",
       "      <td>0</td>\n",
       "      <td>0</td>\n",
       "      <td>0</td>\n",
       "      <td>0</td>\n",
       "      <td>0</td>\n",
       "      <td>0</td>\n",
       "      <td>...</td>\n",
       "      <td>0</td>\n",
       "      <td>0</td>\n",
       "      <td>0</td>\n",
       "      <td>0</td>\n",
       "      <td>0</td>\n",
       "      <td>0</td>\n",
       "      <td>0</td>\n",
       "      <td>0</td>\n",
       "      <td>0</td>\n",
       "      <td>0</td>\n",
       "    </tr>\n",
       "    <tr>\n",
       "      <th>1</th>\n",
       "      <td>0</td>\n",
       "      <td>0</td>\n",
       "      <td>0</td>\n",
       "      <td>0</td>\n",
       "      <td>0</td>\n",
       "      <td>0</td>\n",
       "      <td>0</td>\n",
       "      <td>0</td>\n",
       "      <td>0</td>\n",
       "      <td>0</td>\n",
       "      <td>...</td>\n",
       "      <td>0</td>\n",
       "      <td>0</td>\n",
       "      <td>0</td>\n",
       "      <td>0</td>\n",
       "      <td>0</td>\n",
       "      <td>0</td>\n",
       "      <td>0</td>\n",
       "      <td>0</td>\n",
       "      <td>0</td>\n",
       "      <td>0</td>\n",
       "    </tr>\n",
       "    <tr>\n",
       "      <th>2</th>\n",
       "      <td>0</td>\n",
       "      <td>0</td>\n",
       "      <td>0</td>\n",
       "      <td>0</td>\n",
       "      <td>0</td>\n",
       "      <td>0</td>\n",
       "      <td>0</td>\n",
       "      <td>0</td>\n",
       "      <td>0</td>\n",
       "      <td>0</td>\n",
       "      <td>...</td>\n",
       "      <td>0</td>\n",
       "      <td>0</td>\n",
       "      <td>0</td>\n",
       "      <td>0</td>\n",
       "      <td>0</td>\n",
       "      <td>0</td>\n",
       "      <td>0</td>\n",
       "      <td>0</td>\n",
       "      <td>0</td>\n",
       "      <td>0</td>\n",
       "    </tr>\n",
       "    <tr>\n",
       "      <th>3</th>\n",
       "      <td>0</td>\n",
       "      <td>0</td>\n",
       "      <td>0</td>\n",
       "      <td>0</td>\n",
       "      <td>0</td>\n",
       "      <td>0</td>\n",
       "      <td>0</td>\n",
       "      <td>0</td>\n",
       "      <td>0</td>\n",
       "      <td>0</td>\n",
       "      <td>...</td>\n",
       "      <td>0</td>\n",
       "      <td>0</td>\n",
       "      <td>0</td>\n",
       "      <td>0</td>\n",
       "      <td>0</td>\n",
       "      <td>0</td>\n",
       "      <td>0</td>\n",
       "      <td>0</td>\n",
       "      <td>0</td>\n",
       "      <td>0</td>\n",
       "    </tr>\n",
       "    <tr>\n",
       "      <th>4</th>\n",
       "      <td>0</td>\n",
       "      <td>0</td>\n",
       "      <td>0</td>\n",
       "      <td>0</td>\n",
       "      <td>0</td>\n",
       "      <td>0</td>\n",
       "      <td>0</td>\n",
       "      <td>0</td>\n",
       "      <td>0</td>\n",
       "      <td>0</td>\n",
       "      <td>...</td>\n",
       "      <td>0</td>\n",
       "      <td>0</td>\n",
       "      <td>0</td>\n",
       "      <td>0</td>\n",
       "      <td>0</td>\n",
       "      <td>0</td>\n",
       "      <td>0</td>\n",
       "      <td>0</td>\n",
       "      <td>0</td>\n",
       "      <td>0</td>\n",
       "    </tr>\n",
       "  </tbody>\n",
       "</table>\n",
       "<p>5 rows × 622 columns</p>\n",
       "</div>"
      ],
      "text/plain": [
       "   actor  actress  admin  adorable  akahistory  akahistoryisblackhistory  \\\n",
       "0      0        0      0         0           0                         0   \n",
       "1      0        0      0         0           0                         0   \n",
       "2      0        0      0         0           0                         0   \n",
       "3      0        0      0         0           0                         0   \n",
       "4      0        0      0         0           0                         0   \n",
       "\n",
       "   akalegacy  akas  akasthroughtheyears  akatsuki  ...    world  would  \\\n",
       "0          0     0                    0         0  ...        0      0   \n",
       "1          0     0                    0         0  ...        0      0   \n",
       "2          0     0                    0         0  ...        0      0   \n",
       "3          0     0                    0         0  ...        0      0   \n",
       "4          0     0                    0         0  ...        0      0   \n",
       "\n",
       "   xfactorgr  year  yeni  yfsf  youtube  zcivit  zetaphibeta  zphib  \n",
       "0          0     0     0     0        0       0            0      0  \n",
       "1          0     0     0     0        0       0            0      0  \n",
       "2          0     0     0     0        0       0            0      0  \n",
       "3          0     0     0     0        0       0            0      0  \n",
       "4          0     0     0     0        0       0            0      0  \n",
       "\n",
       "[5 rows x 622 columns]"
      ]
     },
     "execution_count": 215,
     "metadata": {},
     "output_type": "execute_result"
    }
   ],
   "source": [
    "j = clean_features.columns.get_level_values(0).isin(new_vocab)\n",
    "clean_features = clean_features.loc[:,j]\n",
    "clean_features.head()"
   ]
  },
  {
   "cell_type": "code",
   "execution_count": 97,
   "metadata": {
    "collapsed": false
   },
   "outputs": [],
   "source": [
    "from collections import Counter\n",
    "from sklearn.feature_extraction import DictVectorizer\n",
    "clean_emojis_vectorizer = DictVectorizer()\n",
    "#description_emojis_vectorizer = CountVectorizer() \n",
    "\n",
    "# fit_transform() does two functions: First, it fits the model\n",
    "# and learns the vocabulary; second, it transforms our training data\n",
    "# into feature vectors. The input to fit_transform should be a list of \n",
    "# strings.\n",
    "#X = description_vectorizer.fit(emojis)\n",
    "#clean_description_emojis_features = description_vectorizer.transform(clean_description_emojis)\n",
    "X = clean_emojis_vectorizer.fit_transform(Counter(s.split()) for s in clean_emojis)\n",
    "\n",
    "# Numpy arrays are easy to work with, so convert the result to an \n",
    "# array\n",
    "clean_emojis_features = X.toarray()"
   ]
  },
  {
   "cell_type": "code",
   "execution_count": 98,
   "metadata": {
    "collapsed": false
   },
   "outputs": [
    {
     "data": {
      "text/plain": [
       "(30000, 152)"
      ]
     },
     "execution_count": 98,
     "metadata": {},
     "output_type": "execute_result"
    }
   ],
   "source": [
    "clean_emojis_features.shape"
   ]
  },
  {
   "cell_type": "code",
   "execution_count": 99,
   "metadata": {
    "collapsed": false
   },
   "outputs": [],
   "source": [
    "#create list of unique emojis\n",
    "emojis = set()\n",
    "for i in range (30000):\n",
    "    if clean_emojis[i]:\n",
    "        for emoji in clean_emojis[i].split():\n",
    "            emojis.add(emoji)\n",
    "emojis = list(emojis)\n",
    "test = np.zeros(shape=(30000,152))\n",
    "\n",
    "#create sentence to vector\n",
    "for i in range (30000):\n",
    "    if clean_emojis[i]:\n",
    "        for emoji in clean_emojis[i].split():\n",
    "            test[i][emojis.index(emoji)]+=1\n",
    "\n",
    "#verify results\n",
    "#x = 0\n",
    "#for i in range (20740):\n",
    "    #for j in range(808):\n",
    "        #if test[i][j] > 0:\n",
    "            #x+=1\n",
    "#x"
   ]
  },
  {
   "cell_type": "code",
   "execution_count": 100,
   "metadata": {
    "collapsed": false
   },
   "outputs": [],
   "source": [
    "test_emoji = np.zeros(shape=(1,152))\n",
    "for i in range (30000):\n",
    "    for j in range(152):\n",
    "        if test[i][j] > 0:\n",
    "            test_emoji[:,j]+=test[i][j]"
   ]
  },
  {
   "cell_type": "code",
   "execution_count": 144,
   "metadata": {
    "collapsed": false
   },
   "outputs": [
    {
     "data": {
      "text/plain": [
       "[3, 12, 28, 45, 53, 54, 76, 93, 109, 110, 116, 139, 148, 151]"
      ]
     },
     "execution_count": 144,
     "metadata": {},
     "output_type": "execute_result"
    }
   ],
   "source": [
    "count = 0\n",
    "count_list = []\n",
    "for i in range(152):\n",
    "    if test_emoji[:,i]>250:\n",
    "        count+=1\n",
    "        count_list.append(i)\n",
    "count_list"
   ]
  },
  {
   "cell_type": "code",
   "execution_count": 145,
   "metadata": {
    "collapsed": false
   },
   "outputs": [
    {
     "data": {
      "text/html": [
       "<div>\n",
       "<table border=\"1\" class=\"dataframe\">\n",
       "  <thead>\n",
       "    <tr style=\"text-align: right;\">\n",
       "      <th></th>\n",
       "      <th>0</th>\n",
       "      <th>1</th>\n",
       "      <th>2</th>\n",
       "      <th>3</th>\n",
       "      <th>4</th>\n",
       "      <th>5</th>\n",
       "      <th>6</th>\n",
       "      <th>7</th>\n",
       "      <th>8</th>\n",
       "      <th>9</th>\n",
       "      <th>10</th>\n",
       "      <th>11</th>\n",
       "      <th>12</th>\n",
       "      <th>13</th>\n",
       "    </tr>\n",
       "  </thead>\n",
       "  <tbody>\n",
       "    <tr>\n",
       "      <th>count</th>\n",
       "      <td>30000.000000</td>\n",
       "      <td>30000.000000</td>\n",
       "      <td>30000.000000</td>\n",
       "      <td>30000.000000</td>\n",
       "      <td>30000.000000</td>\n",
       "      <td>30000.000000</td>\n",
       "      <td>30000.000000</td>\n",
       "      <td>30000.000000</td>\n",
       "      <td>30000.000000</td>\n",
       "      <td>30000.000000</td>\n",
       "      <td>30000.000000</td>\n",
       "      <td>30000.000000</td>\n",
       "      <td>30000.000000</td>\n",
       "      <td>30000.000000</td>\n",
       "    </tr>\n",
       "    <tr>\n",
       "      <th>mean</th>\n",
       "      <td>0.040567</td>\n",
       "      <td>0.016000</td>\n",
       "      <td>0.022233</td>\n",
       "      <td>0.047867</td>\n",
       "      <td>0.062633</td>\n",
       "      <td>0.336967</td>\n",
       "      <td>0.020067</td>\n",
       "      <td>0.068467</td>\n",
       "      <td>0.099433</td>\n",
       "      <td>0.013000</td>\n",
       "      <td>0.154500</td>\n",
       "      <td>0.020367</td>\n",
       "      <td>0.041400</td>\n",
       "      <td>0.009133</td>\n",
       "    </tr>\n",
       "    <tr>\n",
       "      <th>std</th>\n",
       "      <td>0.427622</td>\n",
       "      <td>0.150149</td>\n",
       "      <td>0.279061</td>\n",
       "      <td>0.550017</td>\n",
       "      <td>0.656042</td>\n",
       "      <td>8.599668</td>\n",
       "      <td>0.175114</td>\n",
       "      <td>0.922862</td>\n",
       "      <td>1.762039</td>\n",
       "      <td>0.176159</td>\n",
       "      <td>0.655828</td>\n",
       "      <td>0.514160</td>\n",
       "      <td>0.480167</td>\n",
       "      <td>0.203923</td>\n",
       "    </tr>\n",
       "    <tr>\n",
       "      <th>min</th>\n",
       "      <td>0.000000</td>\n",
       "      <td>0.000000</td>\n",
       "      <td>0.000000</td>\n",
       "      <td>0.000000</td>\n",
       "      <td>0.000000</td>\n",
       "      <td>0.000000</td>\n",
       "      <td>0.000000</td>\n",
       "      <td>0.000000</td>\n",
       "      <td>0.000000</td>\n",
       "      <td>0.000000</td>\n",
       "      <td>0.000000</td>\n",
       "      <td>0.000000</td>\n",
       "      <td>0.000000</td>\n",
       "      <td>0.000000</td>\n",
       "    </tr>\n",
       "    <tr>\n",
       "      <th>25%</th>\n",
       "      <td>0.000000</td>\n",
       "      <td>0.000000</td>\n",
       "      <td>0.000000</td>\n",
       "      <td>0.000000</td>\n",
       "      <td>0.000000</td>\n",
       "      <td>0.000000</td>\n",
       "      <td>0.000000</td>\n",
       "      <td>0.000000</td>\n",
       "      <td>0.000000</td>\n",
       "      <td>0.000000</td>\n",
       "      <td>0.000000</td>\n",
       "      <td>0.000000</td>\n",
       "      <td>0.000000</td>\n",
       "      <td>0.000000</td>\n",
       "    </tr>\n",
       "    <tr>\n",
       "      <th>50%</th>\n",
       "      <td>0.000000</td>\n",
       "      <td>0.000000</td>\n",
       "      <td>0.000000</td>\n",
       "      <td>0.000000</td>\n",
       "      <td>0.000000</td>\n",
       "      <td>0.000000</td>\n",
       "      <td>0.000000</td>\n",
       "      <td>0.000000</td>\n",
       "      <td>0.000000</td>\n",
       "      <td>0.000000</td>\n",
       "      <td>0.000000</td>\n",
       "      <td>0.000000</td>\n",
       "      <td>0.000000</td>\n",
       "      <td>0.000000</td>\n",
       "    </tr>\n",
       "    <tr>\n",
       "      <th>75%</th>\n",
       "      <td>0.000000</td>\n",
       "      <td>0.000000</td>\n",
       "      <td>0.000000</td>\n",
       "      <td>0.000000</td>\n",
       "      <td>0.000000</td>\n",
       "      <td>0.000000</td>\n",
       "      <td>0.000000</td>\n",
       "      <td>0.000000</td>\n",
       "      <td>0.000000</td>\n",
       "      <td>0.000000</td>\n",
       "      <td>0.000000</td>\n",
       "      <td>0.000000</td>\n",
       "      <td>0.000000</td>\n",
       "      <td>0.000000</td>\n",
       "    </tr>\n",
       "    <tr>\n",
       "      <th>max</th>\n",
       "      <td>16.000000</td>\n",
       "      <td>11.000000</td>\n",
       "      <td>11.000000</td>\n",
       "      <td>13.000000</td>\n",
       "      <td>12.000000</td>\n",
       "      <td>234.000000</td>\n",
       "      <td>6.000000</td>\n",
       "      <td>14.000000</td>\n",
       "      <td>57.000000</td>\n",
       "      <td>20.000000</td>\n",
       "      <td>22.000000</td>\n",
       "      <td>13.000000</td>\n",
       "      <td>12.000000</td>\n",
       "      <td>8.000000</td>\n",
       "    </tr>\n",
       "  </tbody>\n",
       "</table>\n",
       "</div>"
      ],
      "text/plain": [
       "                 0             1             2             3             4   \\\n",
       "count  30000.000000  30000.000000  30000.000000  30000.000000  30000.000000   \n",
       "mean       0.040567      0.016000      0.022233      0.047867      0.062633   \n",
       "std        0.427622      0.150149      0.279061      0.550017      0.656042   \n",
       "min        0.000000      0.000000      0.000000      0.000000      0.000000   \n",
       "25%        0.000000      0.000000      0.000000      0.000000      0.000000   \n",
       "50%        0.000000      0.000000      0.000000      0.000000      0.000000   \n",
       "75%        0.000000      0.000000      0.000000      0.000000      0.000000   \n",
       "max       16.000000     11.000000     11.000000     13.000000     12.000000   \n",
       "\n",
       "                 5             6             7             8             9   \\\n",
       "count  30000.000000  30000.000000  30000.000000  30000.000000  30000.000000   \n",
       "mean       0.336967      0.020067      0.068467      0.099433      0.013000   \n",
       "std        8.599668      0.175114      0.922862      1.762039      0.176159   \n",
       "min        0.000000      0.000000      0.000000      0.000000      0.000000   \n",
       "25%        0.000000      0.000000      0.000000      0.000000      0.000000   \n",
       "50%        0.000000      0.000000      0.000000      0.000000      0.000000   \n",
       "75%        0.000000      0.000000      0.000000      0.000000      0.000000   \n",
       "max      234.000000      6.000000     14.000000     57.000000     20.000000   \n",
       "\n",
       "                 10            11            12            13  \n",
       "count  30000.000000  30000.000000  30000.000000  30000.000000  \n",
       "mean       0.154500      0.020367      0.041400      0.009133  \n",
       "std        0.655828      0.514160      0.480167      0.203923  \n",
       "min        0.000000      0.000000      0.000000      0.000000  \n",
       "25%        0.000000      0.000000      0.000000      0.000000  \n",
       "50%        0.000000      0.000000      0.000000      0.000000  \n",
       "75%        0.000000      0.000000      0.000000      0.000000  \n",
       "max       22.000000     13.000000     12.000000      8.000000  "
      ]
     },
     "execution_count": 145,
     "metadata": {},
     "output_type": "execute_result"
    }
   ],
   "source": [
    "clean_features_emoji = pd.DataFrame(data=test[:,count_list])\n",
    "clean_features_emoji.describe()"
   ]
  },
  {
   "cell_type": "code",
   "execution_count": 146,
   "metadata": {
    "collapsed": false
   },
   "outputs": [
    {
     "name": "stdout",
     "output_type": "stream",
     "text": [
      "☀ ✌ ☆ ❀ ❤ ✨ ♡ ✿ ⚋ ♥ ➖ ✧ ❂ ✔\n"
     ]
    }
   ],
   "source": [
    "emoji_set = set()\n",
    "for i in range (30000):\n",
    "    if clean_emojis[i]:\n",
    "        for emoji in clean_emojis[i].split():\n",
    "            if emojis.index(emoji) in count_list:\n",
    "                emoji_set.add(emoji)\n",
    "print (' '.join(emoji_set))"
   ]
  },
  {
   "cell_type": "markdown",
   "metadata": {},
   "source": [
    "# Hashtags"
   ]
  },
  {
   "cell_type": "code",
   "execution_count": 42,
   "metadata": {
    "collapsed": false,
    "scrolled": true
   },
   "outputs": [
    {
     "data": {
      "text/plain": [
       "'#newera#newday'"
      ]
     },
     "execution_count": 42,
     "metadata": {},
     "output_type": "execute_result"
    }
   ],
   "source": [
    "#data['tags'][0][1:-1].split(', ')[23][2:-1]\n",
    "data['LIST OF TAGS'][0]"
   ]
  },
  {
   "cell_type": "code",
   "execution_count": 43,
   "metadata": {
    "collapsed": false
   },
   "outputs": [],
   "source": [
    "sentence, emojis = cleanup(data['LIST OF TAGS'][0])"
   ]
  },
  {
   "cell_type": "code",
   "execution_count": 44,
   "metadata": {
    "collapsed": false
   },
   "outputs": [
    {
     "data": {
      "text/plain": [
       "'newera newday'"
      ]
     },
     "execution_count": 44,
     "metadata": {},
     "output_type": "execute_result"
    }
   ],
   "source": [
    "sentence"
   ]
  },
  {
   "cell_type": "code",
   "execution_count": 45,
   "metadata": {
    "collapsed": false
   },
   "outputs": [
    {
     "data": {
      "text/plain": [
       "''"
      ]
     },
     "execution_count": 45,
     "metadata": {},
     "output_type": "execute_result"
    }
   ],
   "source": [
    "emojis"
   ]
  },
  {
   "cell_type": "code",
   "execution_count": 47,
   "metadata": {
    "collapsed": false
   },
   "outputs": [
    {
     "name": "stdout",
     "output_type": "stream",
     "text": [
      "3% done\n",
      "7% done\n",
      "10% done\n",
      "13% done\n",
      "17% done\n",
      "20% done\n",
      "23% done\n",
      "27% done\n",
      "30% done\n",
      "33% done\n",
      "37% done\n",
      "40% done\n",
      "43% done\n",
      "47% done\n",
      "50% done\n",
      "53% done\n",
      "57% done\n",
      "60% done\n",
      "63% done\n",
      "67% done\n",
      "70% done\n",
      "73% done\n",
      "77% done\n",
      "80% done\n",
      "83% done\n",
      "87% done\n",
      "90% done\n",
      "93% done\n",
      "97% done\n",
      "100% done\n"
     ]
    }
   ],
   "source": [
    "clean_tag = []\n",
    "clean_tag_emojis = []\n",
    "for i in range( 0, data['LIST OF TAGS'].size ):\n",
    "    if( (i+1)%1000 == 0 ):\n",
    "        print(str(round(i/30000*100))+\"% done\")\n",
    "    x,y = cleanup(data['LIST OF TAGS'][i])\n",
    "    clean_tag.append(x)\n",
    "    clean_tag_emojis.append(y)"
   ]
  },
  {
   "cell_type": "code",
   "execution_count": 48,
   "metadata": {
    "collapsed": false
   },
   "outputs": [
    {
     "data": {
      "text/plain": [
       "['newera newday',\n",
       " 'goodnight goodone weekend',\n",
       " 'tb memories greece stous dromous newyork megatv',\n",
       " 'mprousko filming',\n",
       " 'peru lifelessons tb andreasgeorgiou',\n",
       " 'love andreasgeorgiou',\n",
       " 'work progress andreasgeorgiou',\n",
       " 'dayout lovehim crazy godson',\n",
       " 'andreasgeorgiou quoteoftheday',\n",
       " 'actor onset newtvseries tv']"
      ]
     },
     "execution_count": 48,
     "metadata": {},
     "output_type": "execute_result"
    }
   ],
   "source": [
    "clean_tag[0:10]"
   ]
  },
  {
   "cell_type": "code",
   "execution_count": 49,
   "metadata": {
    "collapsed": false
   },
   "outputs": [
    {
     "data": {
      "text/plain": [
       "(30000, 250)"
      ]
     },
     "execution_count": 49,
     "metadata": {},
     "output_type": "execute_result"
    }
   ],
   "source": [
    "clean_tag_vectorizer = CountVectorizer(analyzer = \"word\", tokenizer = None, preprocessor = None, stop_words = None, max_features = 250) \n",
    "clean_tag_features = clean_tag_vectorizer.fit_transform(clean_tag)\n",
    "clean_tag_features = clean_tag_features.toarray()\n",
    "clean_tag_features.shape"
   ]
  },
  {
   "cell_type": "code",
   "execution_count": 50,
   "metadata": {
    "collapsed": false
   },
   "outputs": [
    {
     "name": "stdout",
     "output_type": "stream",
     "text": [
      "['actor', 'actress', 'adorable', 'alphatv', 'amazing', 'amphictyonyofancientgreekcities', 'anime', 'animeboy', 'animegirl', 'animelife', 'ant', 'aperolspritz', 'apisteuta', 'art', 'athens', 'babylonstepback', 'backstage', 'bansko', 'bblogger', 'beautiful', 'beauty', 'bestoftheday', 'bikini', 'black', 'blogger', 'blogwithme', 'brigitte', 'burak', 'burakozcivit', 'celebrity', 'celestino', 'chalkidiki', 'contentcreator', 'createcontent', 'creative', 'cute', 'cyprus', 'dailybadass', 'denizsoydere', 'donttreadonme', 'dress', 'dromos', 'easter', 'ellada', 'europe', 'everybladeofgrass', 'fab', 'fabulous', 'fact', 'facts', 'family', 'fashion', 'fashionblogger', 'fashionexpert', 'fashionista', 'firearmlove', 'firearms', 'fitness', 'fitnessmodel', 'flowers', 'follow', 'followforfollow', 'followme', 'food', 'footwear', 'friends', 'fun', 'funny', 'getinspired', 'girl', 'girloftheday', 'glock', 'goals', 'good', 'gr', 'greece', 'greek', 'greekblogger', 'greekgirl', 'greeklife', 'greekpost', 'greekposts', 'greekquote', 'greekquoteoftheday', 'greekquotes', 'greekquotesg', 'greekquotess', 'greeks', 'greekstatus', 'growingupgreekstyle', 'gunfanatic', 'gunfanatics', 'gunfighter', 'gunfreaks', 'gungame', 'gunlife', 'gunlove', 'gunlover', 'gunnut', 'gunporn', 'guns', 'gunsdaily', 'happy', 'happyeaster', 'heels', 'hellas', 'highheels', 'ig', 'igers', 'inspiration', 'instadaily', 'instafashion', 'instafollow', 'instagood', 'instagram', 'instalifo', 'instalike', 'instamood', 'instastyle', 'iraklispantsios', 'island', 'ivit', 'ix', 'karasevda', 'karasevdadizi', 'kawaiianime', 'kawaiidesu', 'kawaiigirl', 'kawaiilover', 'kawaiiness', 'kemal', 'kemalsoydere', 'legs', 'life', 'lifestyle', 'lifestyleblogger', 'like', 'likeforlike', 'likes', 'live', 'logia', 'love', 'lovequotes', 'lu', 'luigi', 'luxurycollection', 'madwalk', 'manga', 'mangacap', 'marinakakias', 'marmaladyclothingbar', 'may', 'minimal', 'myconos', 'mykonos', 'mykonosisland', 'mykonoslife', 'mykonostown', 'nature', 'ndamendment', 'neko', 'neslihanatagul', 'neverstopexploring', 'new', 'newcollection', 'nihansezin', 'nihkem', 'nikiti', 'nofilter', 'olympiacos', 'ootd', 'otaku', 'otakulover', 'outfit', 'ozcivit', 'paris', 'photo', 'photography', 'photooftheday', 'picoftheday', 'piraeus', 'polichrono', 'post', 'posts', 'quote', 'quoteoftheday', 'quotes', 'quotesaboutlifequotesandsayings', 'quotesoftheday', 'quotestagram', 'rangerup', 'rawanduz', 'recent', 'repost', 'retro', 'saintgeorgebeach', 'selfie', 'serial', 'setgoals', 'shoes', 'shopping', 'shopranoblog', 'sickguns', 'sickgunsdaily', 'skg', 'skincare', 'smile', 'spitispitaki', 'spring', 'ss', 'staymotivated', 'stixakia', 'streetstyle', 'style', 'stylish', 'summer', 'sun', 'tactical', 'tacticalasfuck', 'tacticallife', 'tacticalminded', 'tacticalporn', 'tacticalshit', 'tagsforlikes', 'tb', 'tbt', 'tflers', 'thepewpewlife', 'thessaloniki', 'throwback', 'top', 'travel', 'travelgram', 'travelling', 'triggernometry', 'truestory', 'turkish', 'tv', 'video', 'view', 'webstagram', 'women', 'wordporn', 'words', 'wordsguns', 'wordswithmeaning', 'wu', 'xfactorgr', 'yfsf', 'zcivit']\n"
     ]
    }
   ],
   "source": [
    "vocab = clean_tag_vectorizer.get_feature_names()\n",
    "print(vocab)"
   ]
  },
  {
   "cell_type": "code",
   "execution_count": 51,
   "metadata": {
    "collapsed": false
   },
   "outputs": [
    {
     "data": {
      "text/html": [
       "<div>\n",
       "<table border=\"1\" class=\"dataframe\">\n",
       "  <thead>\n",
       "    <tr style=\"text-align: right;\">\n",
       "      <th></th>\n",
       "      <th>actor</th>\n",
       "      <th>actress</th>\n",
       "      <th>adorable</th>\n",
       "      <th>alphatv</th>\n",
       "      <th>amazing</th>\n",
       "      <th>amphictyonyofancientgreekcities</th>\n",
       "      <th>anime</th>\n",
       "      <th>animeboy</th>\n",
       "      <th>animegirl</th>\n",
       "      <th>animelife</th>\n",
       "      <th>...</th>\n",
       "      <th>webstagram</th>\n",
       "      <th>women</th>\n",
       "      <th>wordporn</th>\n",
       "      <th>words</th>\n",
       "      <th>wordsguns</th>\n",
       "      <th>wordswithmeaning</th>\n",
       "      <th>wu</th>\n",
       "      <th>xfactorgr</th>\n",
       "      <th>yfsf</th>\n",
       "      <th>zcivit</th>\n",
       "    </tr>\n",
       "  </thead>\n",
       "  <tbody>\n",
       "    <tr>\n",
       "      <th>0</th>\n",
       "      <td>0</td>\n",
       "      <td>0</td>\n",
       "      <td>0</td>\n",
       "      <td>0</td>\n",
       "      <td>0</td>\n",
       "      <td>0</td>\n",
       "      <td>0</td>\n",
       "      <td>0</td>\n",
       "      <td>0</td>\n",
       "      <td>0</td>\n",
       "      <td>...</td>\n",
       "      <td>0</td>\n",
       "      <td>0</td>\n",
       "      <td>0</td>\n",
       "      <td>0</td>\n",
       "      <td>0</td>\n",
       "      <td>0</td>\n",
       "      <td>0</td>\n",
       "      <td>0</td>\n",
       "      <td>0</td>\n",
       "      <td>0</td>\n",
       "    </tr>\n",
       "    <tr>\n",
       "      <th>1</th>\n",
       "      <td>0</td>\n",
       "      <td>0</td>\n",
       "      <td>0</td>\n",
       "      <td>0</td>\n",
       "      <td>0</td>\n",
       "      <td>0</td>\n",
       "      <td>0</td>\n",
       "      <td>0</td>\n",
       "      <td>0</td>\n",
       "      <td>0</td>\n",
       "      <td>...</td>\n",
       "      <td>0</td>\n",
       "      <td>0</td>\n",
       "      <td>0</td>\n",
       "      <td>0</td>\n",
       "      <td>0</td>\n",
       "      <td>0</td>\n",
       "      <td>0</td>\n",
       "      <td>0</td>\n",
       "      <td>0</td>\n",
       "      <td>0</td>\n",
       "    </tr>\n",
       "    <tr>\n",
       "      <th>2</th>\n",
       "      <td>0</td>\n",
       "      <td>0</td>\n",
       "      <td>0</td>\n",
       "      <td>0</td>\n",
       "      <td>0</td>\n",
       "      <td>0</td>\n",
       "      <td>0</td>\n",
       "      <td>0</td>\n",
       "      <td>0</td>\n",
       "      <td>0</td>\n",
       "      <td>...</td>\n",
       "      <td>0</td>\n",
       "      <td>0</td>\n",
       "      <td>0</td>\n",
       "      <td>0</td>\n",
       "      <td>0</td>\n",
       "      <td>0</td>\n",
       "      <td>0</td>\n",
       "      <td>0</td>\n",
       "      <td>0</td>\n",
       "      <td>0</td>\n",
       "    </tr>\n",
       "    <tr>\n",
       "      <th>3</th>\n",
       "      <td>0</td>\n",
       "      <td>0</td>\n",
       "      <td>0</td>\n",
       "      <td>0</td>\n",
       "      <td>0</td>\n",
       "      <td>0</td>\n",
       "      <td>0</td>\n",
       "      <td>0</td>\n",
       "      <td>0</td>\n",
       "      <td>0</td>\n",
       "      <td>...</td>\n",
       "      <td>0</td>\n",
       "      <td>0</td>\n",
       "      <td>0</td>\n",
       "      <td>0</td>\n",
       "      <td>0</td>\n",
       "      <td>0</td>\n",
       "      <td>0</td>\n",
       "      <td>0</td>\n",
       "      <td>0</td>\n",
       "      <td>0</td>\n",
       "    </tr>\n",
       "    <tr>\n",
       "      <th>4</th>\n",
       "      <td>0</td>\n",
       "      <td>0</td>\n",
       "      <td>0</td>\n",
       "      <td>0</td>\n",
       "      <td>0</td>\n",
       "      <td>0</td>\n",
       "      <td>0</td>\n",
       "      <td>0</td>\n",
       "      <td>0</td>\n",
       "      <td>0</td>\n",
       "      <td>...</td>\n",
       "      <td>0</td>\n",
       "      <td>0</td>\n",
       "      <td>0</td>\n",
       "      <td>0</td>\n",
       "      <td>0</td>\n",
       "      <td>0</td>\n",
       "      <td>0</td>\n",
       "      <td>0</td>\n",
       "      <td>0</td>\n",
       "      <td>0</td>\n",
       "    </tr>\n",
       "  </tbody>\n",
       "</table>\n",
       "<p>5 rows × 250 columns</p>\n",
       "</div>"
      ],
      "text/plain": [
       "   actor  actress  adorable  alphatv  amazing  \\\n",
       "0      0        0         0        0        0   \n",
       "1      0        0         0        0        0   \n",
       "2      0        0         0        0        0   \n",
       "3      0        0         0        0        0   \n",
       "4      0        0         0        0        0   \n",
       "\n",
       "   amphictyonyofancientgreekcities  anime  animeboy  animegirl  animelife  \\\n",
       "0                                0      0         0          0          0   \n",
       "1                                0      0         0          0          0   \n",
       "2                                0      0         0          0          0   \n",
       "3                                0      0         0          0          0   \n",
       "4                                0      0         0          0          0   \n",
       "\n",
       "    ...    webstagram  women  wordporn  words  wordsguns  wordswithmeaning  \\\n",
       "0   ...             0      0         0      0          0                 0   \n",
       "1   ...             0      0         0      0          0                 0   \n",
       "2   ...             0      0         0      0          0                 0   \n",
       "3   ...             0      0         0      0          0                 0   \n",
       "4   ...             0      0         0      0          0                 0   \n",
       "\n",
       "   wu  xfactorgr  yfsf  zcivit  \n",
       "0   0          0     0       0  \n",
       "1   0          0     0       0  \n",
       "2   0          0     0       0  \n",
       "3   0          0     0       0  \n",
       "4   0          0     0       0  \n",
       "\n",
       "[5 rows x 250 columns]"
      ]
     },
     "execution_count": 51,
     "metadata": {},
     "output_type": "execute_result"
    }
   ],
   "source": [
    "clean_tag_features = pd.DataFrame(data=clean_tag_features, columns=vocab)\n",
    "clean_tag_features.head()"
   ]
  },
  {
   "cell_type": "markdown",
   "metadata": {},
   "source": [
    "# XGBoost "
   ]
  },
  {
   "cell_type": "code",
   "execution_count": 285,
   "metadata": {
    "collapsed": false
   },
   "outputs": [],
   "source": [
    "#dataset1 = np.hstack((clean_places_features,clean_mentions_features,clean_tag_features,clean_user_features,clean_features, clean_name_features))\n",
    "dataset1 = np.hstack((clean_features, clean_features_emoji))\n",
    "#dataset1 = np.hstack((clean_name_features))\n",
    "#dataset2 = np.hstack((data.aliasNum.as_matrix().reshape(16539,1), data.numberFollowers.as_matrix().reshape(16539,1), data.numberFollowing.as_matrix().reshape(16539,1), data.numberPosts.as_matrix().reshape(16539,1)))\n",
    "dataset2 = np.hstack((data.FOLLOWERS.as_matrix().reshape(30000,1), data.FOLLOWING.as_matrix().reshape(30000,1)))"
   ]
  },
  {
   "cell_type": "code",
   "execution_count": 286,
   "metadata": {
    "collapsed": false
   },
   "outputs": [
    {
     "data": {
      "text/plain": [
       "(30000, 664)"
      ]
     },
     "execution_count": 286,
     "metadata": {},
     "output_type": "execute_result"
    }
   ],
   "source": [
    "dataset1.shape"
   ]
  },
  {
   "cell_type": "code",
   "execution_count": 287,
   "metadata": {
    "collapsed": false
   },
   "outputs": [],
   "source": [
    "dataset = np.hstack((dataset1,dataset2))\n",
    "#dataset = np.hstack((clean_features,dataset2))"
   ]
  },
  {
   "cell_type": "code",
   "execution_count": 288,
   "metadata": {
    "collapsed": false
   },
   "outputs": [
    {
     "data": {
      "text/plain": [
       "(30000, 666)"
      ]
     },
     "execution_count": 288,
     "metadata": {},
     "output_type": "execute_result"
    }
   ],
   "source": [
    "dataset.shape"
   ]
  },
  {
   "cell_type": "code",
   "execution_count": 297,
   "metadata": {
    "collapsed": false
   },
   "outputs": [],
   "source": [
    "pd.concat([clean_features, clean_features_emoji], axis=1).to_csv('NLP_feature_new.csv')"
   ]
  },
  {
   "cell_type": "code",
   "execution_count": 275,
   "metadata": {
    "collapsed": true
   },
   "outputs": [],
   "source": [
    "import xgboost as xgb\n",
    "from sklearn.model_selection import GridSearchCV"
   ]
  },
  {
   "cell_type": "code",
   "execution_count": 276,
   "metadata": {
    "collapsed": false,
    "scrolled": true
   },
   "outputs": [],
   "source": [
    "from sklearn.cross_validation import train_test_split"
   ]
  },
  {
   "cell_type": "code",
   "execution_count": 289,
   "metadata": {
    "collapsed": true
   },
   "outputs": [],
   "source": [
    "x_train, x_test, y_train, y_test = train_test_split(dataset, np.ravel(data.LIKES), test_size=0.2, random_state=42)\n",
    "#x_train, x_test, y_train, y_test = train_test_split(clean_features, np.ravel(data.LIKES), test_size=0.2, random_state=42)"
   ]
  },
  {
   "cell_type": "code",
   "execution_count": 290,
   "metadata": {
    "collapsed": false,
    "scrolled": true
   },
   "outputs": [
    {
     "name": "stdout",
     "output_type": "stream",
     "text": [
      "1589.74178289\n"
     ]
    }
   ],
   "source": [
    "from sklearn.metrics import mean_squared_error\n",
    "model_xgb = xgb.XGBRegressor(max_depth=3, learning_rate=0.48, n_estimators=361)\n",
    "#model_xgb = xgb.XGBRegressor(max_depth=3, learning_rate=0.005, n_estimators=1000)\n",
    "model_xgb.fit(x_train, y_train)\n",
    "y_pred = model_xgb.predict(x_test)\n",
    "RMSE = mean_squared_error(y_test, y_pred)**0.5\n",
    "print(RMSE)"
   ]
  },
  {
   "cell_type": "code",
   "execution_count": 279,
   "metadata": {
    "collapsed": false
   },
   "outputs": [
    {
     "data": {
      "text/plain": [
       "0.88815664062609256"
      ]
     },
     "execution_count": 279,
     "metadata": {},
     "output_type": "execute_result"
    }
   ],
   "source": [
    "model_xgb.score(x_test,y_test)"
   ]
  },
  {
   "cell_type": "markdown",
   "metadata": {},
   "source": [
    "500 post + emoji > 175: 4406.41621941\n",
    "\n",
    "500 post + emoji > 200: 4401.21741895\n",
    "\n",
    "500 post + emoji > 250: 4390.61582903\n",
    "\n",
    "500 post + emoji > 275: 4390.61582903\n",
    "\n",
    "500 post + emoji > 400: 4399.59154944\n",
    "\n",
    "400 post + emoji > 250: 4400.99444182\n",
    "\n",
    "600 post + emoji > 250: 4296.32618265\n",
    "\n",
    "700 post + emoji > 250: 4225.89985807, 1547.05872173\n",
    "\n",
    "675 post + emoji > 250: 1543.21789075\n",
    "\n",
    "500 Hashtags + 250 post: \n",
    "\n",
    "500 Hashtags + 500 post: \n",
    "\n",
    "250 Hashtags + 500 post: \n",
    "\n",
    "500 post: 4407.20005375\n",
    "\n",
    "750 post: "
   ]
  },
  {
   "cell_type": "code",
   "execution_count": 73,
   "metadata": {
    "collapsed": false
   },
   "outputs": [
    {
     "data": {
      "text/html": [
       "<div>\n",
       "<table border=\"1\" class=\"dataframe\">\n",
       "  <thead>\n",
       "    <tr style=\"text-align: right;\">\n",
       "      <th></th>\n",
       "      <th>FOLLOWERS</th>\n",
       "      <th>FOLLOWING</th>\n",
       "      <th>LIKES</th>\n",
       "      <th>COMMENTS</th>\n",
       "      <th>Unnamed: 36</th>\n",
       "    </tr>\n",
       "  </thead>\n",
       "  <tbody>\n",
       "    <tr>\n",
       "      <th>count</th>\n",
       "      <td>3.000000e+04</td>\n",
       "      <td>30000.000000</td>\n",
       "      <td>30000.000000</td>\n",
       "      <td>30000.000000</td>\n",
       "      <td>1.0</td>\n",
       "    </tr>\n",
       "    <tr>\n",
       "      <th>mean</th>\n",
       "      <td>4.608031e+04</td>\n",
       "      <td>1531.426900</td>\n",
       "      <td>1861.486567</td>\n",
       "      <td>28.993933</td>\n",
       "      <td>1.0</td>\n",
       "    </tr>\n",
       "    <tr>\n",
       "      <th>std</th>\n",
       "      <td>8.745227e+04</td>\n",
       "      <td>2208.518135</td>\n",
       "      <td>4620.969015</td>\n",
       "      <td>365.380303</td>\n",
       "      <td>NaN</td>\n",
       "    </tr>\n",
       "    <tr>\n",
       "      <th>min</th>\n",
       "      <td>1.182000e+04</td>\n",
       "      <td>0.000000</td>\n",
       "      <td>0.000000</td>\n",
       "      <td>0.000000</td>\n",
       "      <td>1.0</td>\n",
       "    </tr>\n",
       "    <tr>\n",
       "      <th>25%</th>\n",
       "      <td>1.600600e+04</td>\n",
       "      <td>178.000000</td>\n",
       "      <td>301.000000</td>\n",
       "      <td>1.000000</td>\n",
       "      <td>1.0</td>\n",
       "    </tr>\n",
       "    <tr>\n",
       "      <th>50%</th>\n",
       "      <td>2.310000e+04</td>\n",
       "      <td>559.000000</td>\n",
       "      <td>742.000000</td>\n",
       "      <td>4.000000</td>\n",
       "      <td>1.0</td>\n",
       "    </tr>\n",
       "    <tr>\n",
       "      <th>75%</th>\n",
       "      <td>4.467800e+04</td>\n",
       "      <td>1565.000000</td>\n",
       "      <td>1816.000000</td>\n",
       "      <td>12.000000</td>\n",
       "      <td>1.0</td>\n",
       "    </tr>\n",
       "    <tr>\n",
       "      <th>max</th>\n",
       "      <td>1.134619e+06</td>\n",
       "      <td>7918.000000</td>\n",
       "      <td>158338.000000</td>\n",
       "      <td>26011.000000</td>\n",
       "      <td>1.0</td>\n",
       "    </tr>\n",
       "  </tbody>\n",
       "</table>\n",
       "</div>"
      ],
      "text/plain": [
       "          FOLLOWERS     FOLLOWING          LIKES      COMMENTS  Unnamed: 36\n",
       "count  3.000000e+04  30000.000000   30000.000000  30000.000000          1.0\n",
       "mean   4.608031e+04   1531.426900    1861.486567     28.993933          1.0\n",
       "std    8.745227e+04   2208.518135    4620.969015    365.380303          NaN\n",
       "min    1.182000e+04      0.000000       0.000000      0.000000          1.0\n",
       "25%    1.600600e+04    178.000000     301.000000      1.000000          1.0\n",
       "50%    2.310000e+04    559.000000     742.000000      4.000000          1.0\n",
       "75%    4.467800e+04   1565.000000    1816.000000     12.000000          1.0\n",
       "max    1.134619e+06   7918.000000  158338.000000  26011.000000          1.0"
      ]
     },
     "execution_count": 73,
     "metadata": {},
     "output_type": "execute_result"
    }
   ],
   "source": [
    "data.describe()"
   ]
  },
  {
   "cell_type": "code",
   "execution_count": 76,
   "metadata": {
    "collapsed": false,
    "scrolled": true
   },
   "outputs": [
    {
     "data": {
      "image/png": "[encoded data removed]",
      "text/plain": [
       "<matplotlib.figure.Figure at 0x10b2ea7b8>"
      ]
     },
     "metadata": {},
     "output_type": "display_data"
    }
   ],
   "source": [
    "plt.scatter(y_test, y_pred)\n",
    "plt.show()"
   ]
  },
  {
   "cell_type": "code",
   "execution_count": 78,
   "metadata": {
    "collapsed": false,
    "scrolled": true
   },
   "outputs": [
    {
     "data": {
      "image/png": "[encoded data removed]",
      "text/plain": [
       "<matplotlib.figure.Figure at 0x10b1b6080>"
      ]
     },
     "metadata": {},
     "output_type": "display_data"
    }
   ],
   "source": [
    "fig, ax = plt.subplots()\n",
    "ax.scatter(y_test, y_pred, s=25, cmap=plt.cm.coolwarm, zorder=10)\n",
    "lims = [\n",
    "    np.min([ax.get_xlim(), ax.get_ylim()]),  # min of both axes\n",
    "    np.max([ax.get_xlim(), ax.get_ylim()]),  # max of both axes\n",
    "]\n",
    "\n",
    "# now plot both limits against eachother\n",
    "ax.plot(lims, lims, 'k-', alpha=0.75, zorder=0)\n",
    "ax.set_aspect('equal')\n",
    "ax.set_xlim(lims)\n",
    "ax.set_ylim(lims)\n",
    "plt.show()"
   ]
  },
  {
   "cell_type": "code",
   "execution_count": 79,
   "metadata": {
    "collapsed": false
   },
   "outputs": [
    {
     "data": {
      "text/plain": [
       "<matplotlib.collections.PathCollection at 0x10b20d160>"
      ]
     },
     "execution_count": 79,
     "metadata": {},
     "output_type": "execute_result"
    },
    {
     "data": {
      "image/png": "[encoded data removed]",
      "text/plain": [
       "<matplotlib.figure.Figure at 0x10b30f7f0>"
      ]
     },
     "metadata": {},
     "output_type": "display_data"
    }
   ],
   "source": [
    "fig = plt.figure()\n",
    "ax = fig.add_subplot(111)\n",
    "ax.scatter(y_test, abs(y_pred-y_test))"
   ]
  },
  {
   "cell_type": "code",
   "execution_count": null,
   "metadata": {
    "collapsed": true
   },
   "outputs": [],
   "source": []
  }
 ],
 "metadata": {
  "kernelspec": {
   "display_name": "Python 3",
   "language": "python",
   "name": "python3"
  },
  "language_info": {
   "codemirror_mode": {
    "name": "ipython",
    "version": 3
   },
   "file_extension": ".py",
   "mimetype": "text/x-python",
   "name": "python",
   "nbconvert_exporter": "python",
   "pygments_lexer": "ipython3",
   "version": "3.6.0"
  }
 },
 "nbformat": 4,
 "nbformat_minor": 2
}
